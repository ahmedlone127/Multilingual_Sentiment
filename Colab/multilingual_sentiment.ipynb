{
  "nbformat": 4,
  "nbformat_minor": 0,
  "metadata": {
    "colab": {
      "name": "multilingual_sentiment.ipynb",
      "provenance": [],
      "collapsed_sections": []
    },
    "kernelspec": {
      "name": "python3",
      "display_name": "Python 3"
    },
    "accelerator": "GPU"
  },
  "cells": [
    {
      "cell_type": "markdown",
      "metadata": {
        "id": "G4zN__GxlpO_"
      },
      "source": [
        "[![Open In Colab](https://colab.research.google.com/assets/colab-badge.svg)](https://colab.research.google.com/github/ahmedlone127/Multilingual_Sentiment/blob/master/Colab/multilingual_sentiment.ipynb)",
        "##1. Install Spark NLP "
      ]
    },
    {
      "cell_type": "code",
      "metadata": {
        "colab": {
          "base_uri": "https://localhost:8080/",
          "height": 728
        },
        "id": "PvjkfOvQad0v",
        "outputId": "3677767d-3ce2-4de2-c496-ea55556506c8"
      },
      "source": [
        "! wget http://setup.johnsnowlabs.com/colab.sh -O - | bash\n",
        "\n",
        "import sparknlp\n",
        "spark = sparknlp.start(gpu = True)\n",
        "from sparknlp.base import *\n",
        "from sparknlp.annotator import *\n",
        "from pyspark.ml import Pipeline\n",
        "import pandas as pd\n",
        "print(\"Spark NLP version\", sparknlp.version())\n",
        "print(\"Apache Spark version:\", spark.version)\n",
        "\n",
        "spark"
      ],
      "execution_count": null,
      "outputs": [
        {
          "output_type": "stream",
          "name": "stdout",
          "text": [
            "--2021-11-26 13:07:28--  http://setup.johnsnowlabs.com/colab.sh\n",
            "Resolving setup.johnsnowlabs.com (setup.johnsnowlabs.com)... 51.158.130.125\n",
            "Connecting to setup.johnsnowlabs.com (setup.johnsnowlabs.com)|51.158.130.125|:80... connected.\n",
            "HTTP request sent, awaiting response... 302 Found\n",
            "Location: https://setup.johnsnowlabs.com/colab.sh [following]\n",
            "--2021-11-26 13:07:28--  https://setup.johnsnowlabs.com/colab.sh\n",
            "Connecting to setup.johnsnowlabs.com (setup.johnsnowlabs.com)|51.158.130.125|:443... connected.\n",
            "HTTP request sent, awaiting response... 302 Moved Temporarily\n",
            "Location: https://raw.githubusercontent.com/JohnSnowLabs/spark-nlp/master/scripts/colab_setup.sh [following]\n",
            "--2021-11-26 13:07:30--  https://raw.githubusercontent.com/JohnSnowLabs/spark-nlp/master/scripts/colab_setup.sh\n",
            "Resolving raw.githubusercontent.com (raw.githubusercontent.com)... 185.199.108.133, 185.199.109.133, 185.199.110.133, ...\n",
            "Connecting to raw.githubusercontent.com (raw.githubusercontent.com)|185.199.108.133|:443... connected.\n",
            "HTTP request sent, awaiting response... 200 OK\n",
            "Length: 1275 (1.2K) [text/plain]\n",
            "Saving to: ‘STDOUT’\n",
            "\n",
            "-                   100%[===================>]   1.25K  --.-KB/s    in 0s      \n",
            "\n",
            "2021-11-26 13:07:30 (50.3 MB/s) - written to stdout [1275/1275]\n",
            "\n",
            "setup Colab for PySpark 3.0.3 and Spark NLP 3.3.4\n",
            "Installing PySpark 3.0.3 and Spark NLP 3.3.4\n",
            "\u001b[K     |████████████████████████████████| 209.1 MB 66 kB/s \n",
            "\u001b[K     |████████████████████████████████| 133 kB 37.1 MB/s \n",
            "\u001b[K     |████████████████████████████████| 198 kB 37.3 MB/s \n",
            "\u001b[?25h  Building wheel for pyspark (setup.py) ... \u001b[?25l\u001b[?25hdone\n",
            "Spark NLP version 3.3.4\n",
            "Apache Spark version: 3.0.3\n"
          ]
        },
        {
          "output_type": "execute_result",
          "data": {
            "text/html": [
              "\n",
              "            <div>\n",
              "                <p><b>SparkSession - in-memory</b></p>\n",
              "                \n",
              "        <div>\n",
              "            <p><b>SparkContext</b></p>\n",
              "\n",
              "            <p><a href=\"http://25d227ccce79:4040\">Spark UI</a></p>\n",
              "\n",
              "            <dl>\n",
              "              <dt>Version</dt>\n",
              "                <dd><code>v3.0.3</code></dd>\n",
              "              <dt>Master</dt>\n",
              "                <dd><code>local[*]</code></dd>\n",
              "              <dt>AppName</dt>\n",
              "                <dd><code>Spark NLP</code></dd>\n",
              "            </dl>\n",
              "        </div>\n",
              "        \n",
              "            </div>\n",
              "        "
            ],
            "text/plain": [
              "<pyspark.sql.session.SparkSession at 0x7f955050e310>"
            ]
          },
          "metadata": {},
          "execution_count": 30
        }
      ]
    },
    {
      "cell_type": "markdown",
      "metadata": {
        "id": "SqslIeB8qOwc"
      },
      "source": [
        "##2. Load Data"
      ]
    },
    {
      "cell_type": "code",
      "metadata": {
        "colab": {
          "base_uri": "https://localhost:8080/"
        },
        "id": "SwhtCGJ8c-if",
        "outputId": "033d5aa5-7bf0-4e2f-af29-98740047f07e"
      },
      "source": [
        "import pandas as pd \n",
        "df = pd.read_csv(\"Sentiment_Data.csv\")\n",
        "df = spark.createDataFrame(df)\n",
        "from sklearn.model_selection import train_test_split\n",
        "train_df , test_df = df.randomSplit([0.8, 0.2])\n",
        "train_df.show()"
      ],
      "execution_count": null,
      "outputs": [
        {
          "output_type": "stream",
          "name": "stdout",
          "text": [
            "+--------+---------------------------------+\n",
            "|       y|                             text|\n",
            "+--------+---------------------------------+\n",
            "|negative|                  一个 人 害怕 咩|\n",
            "|negative|  一个 人 快活 两个 人 生活 三...|\n",
            "|negative|                一个 人 觉得 难过|\n",
            "|negative|             一个 人 过年 好 无聊|\n",
            "|negative|                一个 人 难受 算了|\n",
            "|negative|      一个 人好 无聊 陪 聊聊天 吧|\n",
            "|negative|                 一个 低沉 机器人|\n",
            "|negative|      一个 朋友 生气 说 改 怎么办|\n",
            "|negative|                   一个 机器 骂人|\n",
            "|negative|           一个 比 一个 浪费 土地|\n",
            "|negative|                一个 比 一个 猥琐|\n",
            "|negative|一个 特别 讨厌 人 他 每次 坏 好事|\n",
            "|negative|   一个 疼 爱 对 又 这么 痴情 ...|\n",
            "|negative|         一个 讨厌 人 他 老 找 事|\n",
            "|negative|            一个月 七天 就够 心烦|\n",
            "|negative|                 一些 感叹 卡西欧|\n",
            "|negative|               一到 四大美女 麻烦|\n",
            "|negative|                一哥 什么 不好 呢|\n",
            "|negative|              一大早 上 我够 无聊|\n",
            "|negative|                   一大早 忒 无聊|\n",
            "+--------+---------------------------------+\n",
            "only showing top 20 rows\n",
            "\n"
          ]
        }
      ]
    },
    {
      "cell_type": "markdown",
      "metadata": {
        "id": "CM4yX5wDeEVj"
      },
      "source": [
        "#3. Train Model"
      ]
    },
    {
      "cell_type": "code",
      "metadata": {
        "id": "jlTTfRAQc-5Z",
        "colab": {
          "base_uri": "https://localhost:8080/"
        },
        "outputId": "f507c2fd-9693-4de3-f2e4-ea63f61c61b5"
      },
      "source": [
        "from pyspark.ml import Pipeline\n",
        "from sparknlp.annotator import *\n",
        "from sparknlp.common import *\n",
        "from sparknlp.base import *\n",
        "\n",
        "\n",
        "document = DocumentAssembler()\\\n",
        "    .setInputCol(\"text\")\\\n",
        "    .setOutputCol(\"document\")\n",
        "sent_embeddings = BertSentenceEmbeddings.pretrained(\"sent_bert_use_cmlm_multi_base_br\", \"xx\") \\\n",
        "      .setInputCols(\"document\") \\\n",
        "      .setOutputCol(\"sentence_embeddings\")\n",
        "classifierDl = ClassifierDLApproach()\\\n",
        "  .setInputCols([\"sentence_embeddings\"])\\\n",
        "  .setOutputCol(\"class\")\\\n",
        "  .setLabelColumn(\"y\")\\\n",
        "  .setMaxEpochs(125)\\\n",
        "  .setLr( )  \n",
        "pipeline = Pipeline(\n",
        "    stages = [\n",
        "        document,\n",
        "        sent_embeddings,\n",
        "        classifierDl\n",
        "    ])\n",
        "mutli_lingual_model = pipeline.fit(train_df)\n"
      ],
      "execution_count": null,
      "outputs": [
        {
          "output_type": "stream",
          "name": "stdout",
          "text": [
            "sent_bert_use_cmlm_multi_base_br download started this may take some time.\n",
            "Approximate size to download 1.7 GB\n",
            "[OK!]\n"
          ]
        }
      ]
    },
    {
      "cell_type": "markdown",
      "metadata": {
        "id": "DbCksYvoqUIQ"
      },
      "source": [
        "## 4. Save the Model"
      ]
    },
    {
      "cell_type": "code",
      "metadata": {
        "id": "Rl-nb-wI2DE5"
      },
      "source": [
        "mutli_lingual_model.stages[-1].write().overwrite().save('/content/tmp_multi_classifierDL_model')\n"
      ],
      "execution_count": null,
      "outputs": []
    },
    {
      "cell_type": "markdown",
      "metadata": {
        "id": "vlzoP8IYeOrP"
      },
      "source": [
        "#5. Evaluate Trained Model on Test Data"
      ]
    },
    {
      "cell_type": "code",
      "metadata": {
        "id": "MKMRrNr9MHln",
        "colab": {
          "base_uri": "https://localhost:8080/"
        },
        "outputId": "3abcba62-c4ab-452b-fa05-e8e07d312322"
      },
      "source": [
        "preds = mutli_lingual_model.transform(test_df)\n",
        "preds.show()"
      ],
      "execution_count": null,
      "outputs": [
        {
          "output_type": "stream",
          "name": "stdout",
          "text": [
            "+--------+---------------------------------+--------------------+--------------------+--------------------+\n",
            "|       y|                             text|            document| sentence_embeddings|               class|\n",
            "+--------+---------------------------------+--------------------+--------------------+--------------------+\n",
            "|negative|  一个 人 玩 无聊 加 寂寞 所以...|[[document, 0, 21...|[[sentence_embedd...|[[category, 0, 21...|\n",
            "|negative|    一个 机器人 说话 你好 无聊 哎|[[document, 0, 16...|[[sentence_embedd...|[[category, 0, 16...|\n",
            "|negative|    一会 走神 一会 故障 怎么 服务|[[document, 0, 16...|[[sentence_embedd...|[[category, 0, 16...|\n",
            "|negative|        一加 什么 时候 下 等于 三|[[document, 0, 14...|[[sentence_embedd...|[[category, 0, 14...|\n",
            "|negative| 一向 都 很淡 定 可是 关键时刻...|[[document, 0, 27...|[[sentence_embedd...|[[category, 0, 27...|\n",
            "|negative|  一天 不 贱人 犯贱 活不了 够 ...|[[document, 0, 20...|[[sentence_embedd...|[[category, 0, 20...|\n",
            "|negative|      一时 说不出来 说 玩 什么 吧|[[document, 0, 15...|[[sentence_embedd...|[[category, 0, 15...|\n",
            "|negative|                     一点 不 好看|[[document, 0, 6,...|[[sentence_embedd...|[[category, 0, 6,...|\n",
            "|negative|                    七 讲 好 难看|[[document, 0, 7,...|[[sentence_embedd...|[[category, 0, 7,...|\n",
            "|negative|万一 过程 中 努力 而 结果 不好 呢|[[document, 0, 19...|[[sentence_embedd...|[[category, 0, 19...|\n",
            "|negative|             上 还 不好意思 说 呢|[[document, 0, 11...|[[sentence_embedd...|[[category, 0, 11...|\n",
            "|negative|  上个月 妹妹 为 她 辛苦 一晚 ...|[[document, 0, 21...|[[sentence_embedd...|[[category, 0, 21...|\n",
            "|negative|                     上火 很 聪明|[[document, 0, 6,...|[[sentence_embedd...|[[category, 0, 6,...|\n",
            "|negative|             上线 也 一样 都 无视|[[document, 0, 11...|[[sentence_embedd...|[[category, 0, 11...|\n",
            "|negative|                  不 可爱 就 叹气|[[document, 0, 8,...|[[sentence_embedd...|[[category, 0, 8,...|\n",
            "|negative|                  不 可爱 很 下贱|[[document, 0, 8,...|[[sentence_embedd...|[[category, 0, 8,...|\n",
            "|negative|  不 好看 小孩子 们 看 这样 头...|[[document, 0, 28...|[[sentence_embedd...|[[category, 0, 28...|\n",
            "|negative|                不 好看 现在 这个|[[document, 0, 9,...|[[sentence_embedd...|[[category, 0, 9,...|\n",
            "|negative|              不 对 地方 多 多 很|[[document, 0, 11...|[[sentence_embedd...|[[category, 0, 11...|\n",
            "|negative|                     不 对 大流氓|[[document, 0, 6,...|[[sentence_embedd...|[[category, 0, 6,...|\n",
            "+--------+---------------------------------+--------------------+--------------------+--------------------+\n",
            "only showing top 20 rows\n",
            "\n"
          ]
        }
      ]
    },
    {
      "cell_type": "code",
      "metadata": {
        "id": "xbAeIIjhdMp1",
        "colab": {
          "base_uri": "https://localhost:8080/",
          "height": 418
        },
        "outputId": "f50d23ab-c274-4d11-f9c9-3f1366662d9c"
      },
      "source": [
        "df = preds.select(['y','class.result']).toPandas()\n",
        "df['result'] = df['result'].apply(lambda x : x[0])\n",
        "df"
      ],
      "execution_count": null,
      "outputs": [
        {
          "output_type": "execute_result",
          "data": {
            "text/html": [
              "<div>\n",
              "<style scoped>\n",
              "    .dataframe tbody tr th:only-of-type {\n",
              "        vertical-align: middle;\n",
              "    }\n",
              "\n",
              "    .dataframe tbody tr th {\n",
              "        vertical-align: top;\n",
              "    }\n",
              "\n",
              "    .dataframe thead th {\n",
              "        text-align: right;\n",
              "    }\n",
              "</style>\n",
              "<table border=\"1\" class=\"dataframe\">\n",
              "  <thead>\n",
              "    <tr style=\"text-align: right;\">\n",
              "      <th></th>\n",
              "      <th>y</th>\n",
              "      <th>result</th>\n",
              "    </tr>\n",
              "  </thead>\n",
              "  <tbody>\n",
              "    <tr>\n",
              "      <th>0</th>\n",
              "      <td>negative</td>\n",
              "      <td>negative</td>\n",
              "    </tr>\n",
              "    <tr>\n",
              "      <th>1</th>\n",
              "      <td>negative</td>\n",
              "      <td>negative</td>\n",
              "    </tr>\n",
              "    <tr>\n",
              "      <th>2</th>\n",
              "      <td>negative</td>\n",
              "      <td>negative</td>\n",
              "    </tr>\n",
              "    <tr>\n",
              "      <th>3</th>\n",
              "      <td>negative</td>\n",
              "      <td>positive</td>\n",
              "    </tr>\n",
              "    <tr>\n",
              "      <th>4</th>\n",
              "      <td>negative</td>\n",
              "      <td>positive</td>\n",
              "    </tr>\n",
              "    <tr>\n",
              "      <th>...</th>\n",
              "      <td>...</td>\n",
              "      <td>...</td>\n",
              "    </tr>\n",
              "    <tr>\n",
              "      <th>5904</th>\n",
              "      <td>positive</td>\n",
              "      <td>negative</td>\n",
              "    </tr>\n",
              "    <tr>\n",
              "      <th>5905</th>\n",
              "      <td>positive</td>\n",
              "      <td>positive</td>\n",
              "    </tr>\n",
              "    <tr>\n",
              "      <th>5906</th>\n",
              "      <td>positive</td>\n",
              "      <td>positive</td>\n",
              "    </tr>\n",
              "    <tr>\n",
              "      <th>5907</th>\n",
              "      <td>positive</td>\n",
              "      <td>positive</td>\n",
              "    </tr>\n",
              "    <tr>\n",
              "      <th>5908</th>\n",
              "      <td>positive</td>\n",
              "      <td>positive</td>\n",
              "    </tr>\n",
              "  </tbody>\n",
              "</table>\n",
              "<p>5909 rows × 2 columns</p>\n",
              "</div>"
            ],
            "text/plain": [
              "             y    result\n",
              "0     negative  negative\n",
              "1     negative  negative\n",
              "2     negative  negative\n",
              "3     negative  positive\n",
              "4     negative  positive\n",
              "...        ...       ...\n",
              "5904  positive  negative\n",
              "5905  positive  positive\n",
              "5906  positive  positive\n",
              "5907  positive  positive\n",
              "5908  positive  positive\n",
              "\n",
              "[5909 rows x 2 columns]"
            ]
          },
          "metadata": {},
          "execution_count": 38
        }
      ]
    },
    {
      "cell_type": "code",
      "metadata": {
        "id": "Vd-i2NYWnXSI",
        "colab": {
          "base_uri": "https://localhost:8080/"
        },
        "outputId": "23efdc25-e5e9-44fd-eb21-f99083a0dabb"
      },
      "source": [
        "\n",
        "# We are going to use sklearn to evalute the results on test dataset\n",
        "from sklearn.metrics import classification_report\n",
        "print(classification_report(df['result'], df['y']))"
      ],
      "execution_count": null,
      "outputs": [
        {
          "output_type": "stream",
          "name": "stdout",
          "text": [
            "              precision    recall  f1-score   support\n",
            "\n",
            "    negative       0.89      0.89      0.89      2434\n",
            "    positive       0.92      0.92      0.92      3475\n",
            "\n",
            "    accuracy                           0.91      5909\n",
            "   macro avg       0.91      0.91      0.91      5909\n",
            "weighted avg       0.91      0.91      0.91      5909\n",
            "\n"
          ]
        }
      ]
    }
  ]
}
