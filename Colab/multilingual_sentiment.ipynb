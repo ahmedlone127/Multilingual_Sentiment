{
  "nbformat": 4,
  "nbformat_minor": 0,
  "metadata": {
    "colab": {
      "name": "multilingual_sentiment.ipynb",
      "provenance": [],
      "collapsed_sections": []
    },
    "kernelspec": {
      "name": "python3",
      "display_name": "Python 3"
    },
    "accelerator": "GPU"
  },
  "cells": [
    {
      "cell_type": "markdown",
      "metadata": {
        "id": "G4zN__GxlpO_"
      },
      "source": [
        "[![Open In Colab](https://colab.research.google.com/assets/colab-badge.svg)](https://colab.research.google.com/github/ahmedlone127/Multilingual_Sentiment/blob/master/Colab/multilingual_sentiment.ipynb) \n",
        "##1. Install Spark NLP "
      ]
    },
    {
      "cell_type": "code",
      "metadata": {
        "colab": {
          "base_uri": "https://localhost:8080/",
          "height": 636
        },
        "id": "PvjkfOvQad0v",
        "outputId": "4aba0a2c-91ca-4292-bec4-68d2766d3a49"
      },
      "source": [
        "! wget http://setup.johnsnowlabs.com/colab.sh -O - | bash\n",
        "import sparknlp\n",
        "spark = sparknlp.start(gpu = True)\n",
        "from sparknlp.base import *\n",
        "from sparknlp.annotator import *\n",
        "from pyspark.ml import Pipeline\n",
        "import pandas as pd\n",
        "print(\"Spark NLP version\", sparknlp.version())\n",
        "print(\"Apache Spark version:\", spark.version)\n",
        "\n",
        "spark"
      ],
      "execution_count": null,
      "outputs": [
        {
          "output_type": "stream",
          "name": "stdout",
          "text": [
            "--2021-12-08 17:22:18--  http://setup.johnsnowlabs.com/colab.sh\n",
            "Resolving setup.johnsnowlabs.com (setup.johnsnowlabs.com)... 51.158.130.125\n",
            "Connecting to setup.johnsnowlabs.com (setup.johnsnowlabs.com)|51.158.130.125|:80... connected.\n",
            "HTTP request sent, awaiting response... 302 Found\n",
            "Location: https://setup.johnsnowlabs.com/colab.sh [following]\n",
            "--2021-12-08 17:22:19--  https://setup.johnsnowlabs.com/colab.sh\n",
            "Connecting to setup.johnsnowlabs.com (setup.johnsnowlabs.com)|51.158.130.125|:443... connected.\n",
            "HTTP request sent, awaiting response... 302 Moved Temporarily\n",
            "Location: https://raw.githubusercontent.com/JohnSnowLabs/spark-nlp/master/scripts/colab_setup.sh [following]\n",
            "--2021-12-08 17:22:19--  https://raw.githubusercontent.com/JohnSnowLabs/spark-nlp/master/scripts/colab_setup.sh\n",
            "Resolving raw.githubusercontent.com (raw.githubusercontent.com)... 185.199.108.133, 185.199.109.133, 185.199.110.133, ...\n",
            "Connecting to raw.githubusercontent.com (raw.githubusercontent.com)|185.199.108.133|:443... connected.\n",
            "HTTP request sent, awaiting response... 200 OK\n",
            "Length: 1275 (1.2K) [text/plain]\n",
            "Saving to: ‘STDOUT’\n",
            "\n",
            "-                   100%[===================>]   1.25K  --.-KB/s    in 0s      \n",
            "\n",
            "2021-12-08 17:22:19 (53.5 MB/s) - written to stdout [1275/1275]\n",
            "\n",
            "setup Colab for PySpark 3.0.3 and Spark NLP 3.3.4\n",
            "Installing PySpark 3.0.3 and Spark NLP 3.3.4\n",
            "Spark NLP version 3.3.4\n",
            "Apache Spark version: 3.0.3\n"
          ]
        },
        {
          "output_type": "execute_result",
          "data": {
            "text/html": [
              "\n",
              "            <div>\n",
              "                <p><b>SparkSession - in-memory</b></p>\n",
              "                \n",
              "        <div>\n",
              "            <p><b>SparkContext</b></p>\n",
              "\n",
              "            <p><a href=\"http://9f0d83f6312f:4040\">Spark UI</a></p>\n",
              "\n",
              "            <dl>\n",
              "              <dt>Version</dt>\n",
              "                <dd><code>v3.0.3</code></dd>\n",
              "              <dt>Master</dt>\n",
              "                <dd><code>local[*]</code></dd>\n",
              "              <dt>AppName</dt>\n",
              "                <dd><code>Spark NLP</code></dd>\n",
              "            </dl>\n",
              "        </div>\n",
              "        \n",
              "            </div>\n",
              "        "
            ],
            "text/plain": [
              "<pyspark.sql.session.SparkSession at 0x7f122b31d490>"
            ]
          },
          "metadata": {},
          "execution_count": 1
        }
      ]
    },
    {
      "cell_type": "markdown",
      "metadata": {
        "id": "SqslIeB8qOwc"
      },
      "source": [
        "##2. Load Data"
      ]
    },
    {
      "cell_type": "code",
      "metadata": {
        "colab": {
          "base_uri": "https://localhost:8080/"
        },
        "id": "SwhtCGJ8c-if",
        "outputId": "a102b484-ee95-4d78-b133-7dbd5174eead"
      },
      "source": [
        "!wget https://raw.githubusercontent.com/ahmedlone127/Multilingual_Sentiment/master/Data/Sentiment_Test.csv\n",
        "!wget https://raw.githubusercontent.com/ahmedlone127/Multilingual_Sentiment/master/Data/Sentiment_Train.csv\n",
        "import pandas as pd \n",
        "df = pd.read_csv(\"Sentiment_Train.csv\")\n",
        "train_df = spark.createDataFrame(df)\n",
        "df = pd.read_csv(\"Sentiment_Test.csv\")\n",
        "df = df.iloc[:7000]\n",
        "test_df = spark.createDataFrame(df)\n",
        "train_df.show()"
      ],
      "execution_count": null,
      "outputs": [
        {
          "output_type": "stream",
          "name": "stdout",
          "text": [
            "--2021-12-08 15:53:47--  https://raw.githubusercontent.com/ahmedlone127/Multilingual_Sentiment/master/Data/Sentiment_Test.csv\n",
            "Resolving raw.githubusercontent.com (raw.githubusercontent.com)... 185.199.110.133, 185.199.108.133, 185.199.111.133, ...\n",
            "Connecting to raw.githubusercontent.com (raw.githubusercontent.com)|185.199.110.133|:443... connected.\n",
            "HTTP request sent, awaiting response... 200 OK\n",
            "Length: 1031534 (1007K) [text/plain]\n",
            "Saving to: ‘Sentiment_Test.csv’\n",
            "\n",
            "Sentiment_Test.csv  100%[===================>]   1007K  --.-KB/s    in 0.05s   \n",
            "\n",
            "2021-12-08 15:53:47 (20.1 MB/s) - ‘Sentiment_Test.csv’ saved [1031534/1031534]\n",
            "\n",
            "--2021-12-08 15:53:47--  https://raw.githubusercontent.com/ahmedlone127/Multilingual_Sentiment/master/Data/Sentiment_Train.csv\n",
            "Resolving raw.githubusercontent.com (raw.githubusercontent.com)... 185.199.108.133, 185.199.110.133, 185.199.109.133, ...\n",
            "Connecting to raw.githubusercontent.com (raw.githubusercontent.com)|185.199.108.133|:443... connected.\n",
            "HTTP request sent, awaiting response... 200 OK\n",
            "Length: 5834940 (5.6M) [text/plain]\n",
            "Saving to: ‘Sentiment_Train.csv’\n",
            "\n",
            "Sentiment_Train.csv 100%[===================>]   5.56M  --.-KB/s    in 0.08s   \n",
            "\n",
            "2021-12-08 15:53:48 (65.6 MB/s) - ‘Sentiment_Train.csv’ saved [5834940/5834940]\n",
            "\n",
            "+---+----------------------------------+--------+\n",
            "|_c0|                              text|       y|\n",
            "+---+----------------------------------+--------+\n",
            "|  0|              Sám v temnotě je ...|negative|\n",
            "|  1|              Me contem algo q ...|positive|\n",
            "|  2|              ¡¡El @ManUtd Feme...|positive|\n",
            "|  3|              o rosto delicado ...|negative|\n",
            "|  4|   최고. 몇 번 봐도 매력있는 영...|positive|\n",
            "|  5|              Já estava com sau...|positive|\n",
            "|  6|              eu amo muito a vo...|negative|\n",
            "|  7|              친구처럼 재밌는 영화|positive|\n",
            "|  8|              @paulpogba @equip...|positive|\n",
            "|  9|                          소아적인|negative|\n",
            "| 10|              @Kapan \"aparentem...|positive|\n",
            "| 11|              @Velez @WatfordFC...|negative|\n",
            "| 12|              @wwwmlna @batatac...|negative|\n",
            "| 13|              @realvarriale @KM...|positive|\n",
            "| 14|              Ode dneška budu ř...|positive|\n",
            "| 15|              @MELAOtreze @revo...|negative|\n",
            "| 16|              o mac morreu mesm...|negative|\n",
            "| 17|              Panika nastava ve...|negative|\n",
            "| 18|여기에 별점5개준사람 초등학생이...|negative|\n",
            "| 19|              Stephena Sommers ...|negative|\n",
            "+---+----------------------------------+--------+\n",
            "only showing top 20 rows\n",
            "\n"
          ]
        }
      ]
    },
    {
      "cell_type": "markdown",
      "metadata": {
        "id": "IcBhbXmCmfyH"
      },
      "source": [
        "##2.5 Define plotting Utils "
      ]
    },
    {
      "cell_type": "code",
      "metadata": {
        "id": "Bia9Gdxwmd0C"
      },
      "source": [
        "import matplotlib.pyplot as plt\n",
        "def loss_plot(log_path) :\n",
        "    with open(log_path, \"r\", encoding=\"utf-8\") as f :\n",
        "        lines = f.readlines()\n",
        "\n",
        "    loss = [line.split()[6] for line in lines if line.startswith(\"Epoch\") and line.split()[6] != \"size:\"]\n",
        "\n",
        "    \n",
        "    epoch = []\n",
        "    losses = []\n",
        "    for x, y in enumerate(loss, 1):\n",
        "        epoch.append(x)\n",
        "        losses.append(float(y))\n",
        "    plt.subplots(1,1, figsize=(8,8))\n",
        "    plt.ylabel('Loss')\n",
        "    plt.xlabel('Epochs')\n",
        "    plt.title('Loss Plot')\n",
        "    plt.plot(epoch[::-1], losses[::-1])\n",
        "    plt.show()\n",
        "\n",
        "def acc_plot(log_path):\n",
        "    with open(log_path, \"r\", encoding=\"utf-8\") as f :\n",
        "        lines = f.readlines()\n",
        "\n",
        "    loss = [line.split()[9] for line in lines if line.startswith(\"Epoch\") and line.split()[6] != \"size:\"]\n",
        "\n",
        "    \n",
        "    epoch = []\n",
        "    losses = []\n",
        "    for x, y in enumerate(loss, 1):\n",
        "        epoch.append(x)\n",
        "        losses.append(float(y))\n",
        "    plt.subplots(1,1, figsize=(8,8))\n",
        "    plt.ylabel('Accuracy')\n",
        "    plt.xlabel('Epochs')\n",
        "    plt.title('Accuracy Plot')\n",
        "    plt.plot(epoch[::-1], losses[::-1])\n",
        "    plt.show()\n"
      ],
      "execution_count": null,
      "outputs": []
    },
    {
      "cell_type": "markdown",
      "metadata": {
        "id": "CM4yX5wDeEVj"
      },
      "source": [
        "##3. Train Model with Bert"
      ]
    },
    {
      "cell_type": "code",
      "metadata": {
        "id": "FeY0HczreWSy"
      },
      "source": [
        "!mkdir classifier_logs_Bert\n"
      ],
      "execution_count": null,
      "outputs": []
    },
    {
      "cell_type": "code",
      "metadata": {
        "id": "jlTTfRAQc-5Z",
        "colab": {
          "base_uri": "https://localhost:8080/"
        },
        "outputId": "1f18cc27-5bf7-48d8-b7d1-a9cd3f8cabfd"
      },
      "source": [
        "from pyspark.ml import Pipeline\n",
        "from sparknlp.annotator import *\n",
        "from sparknlp.common import *\n",
        "from sparknlp.base import *\n",
        "\n",
        "\n",
        "document = DocumentAssembler()\\\n",
        "    .setInputCol(\"text\")\\\n",
        "    .setOutputCol(\"document\")\n",
        "sent_embeddings = BertSentenceEmbeddings.pretrained(\"sent_bert_use_cmlm_multi_base_br\", \"xx\") \\\n",
        "      .setInputCols(\"document\") \\\n",
        "      .setOutputCol(\"sentence_embeddings\")\n",
        "classifierDl = ClassifierDLApproach()\\\n",
        "  .setInputCols([\"sentence_embeddings\"])\\\n",
        "  .setOutputCol(\"class\")\\\n",
        "  .setLabelColumn(\"y\")\\\n",
        "  .setMaxEpochs(125)\\\n",
        "  .setLr(0.0007)  \\\n",
        "  .setEnableOutputLogs(True)\\\n",
        "  .setOutputLogsPath('classifier_logs_Bert')\n",
        "\n",
        "pipeline = Pipeline(\n",
        "    stages = [\n",
        "        document,\n",
        "        sent_embeddings,\n",
        "        classifierDl\n",
        "    ])\n",
        "\n",
        "mutli_lingual_model = pipeline.fit(train_df)\n"
      ],
      "execution_count": null,
      "outputs": [
        {
          "metadata": {
            "tags": null
          },
          "name": "stdout",
          "output_type": "stream",
          "text": [
            "sent_bert_use_cmlm_multi_base_br download started this may take some time.\n",
            "Approximate size to download 1.7 GB\n",
            "[OK!]\n"
          ]
        }
      ]
    },
    {
      "cell_type": "code",
      "metadata": {
        "colab": {
          "base_uri": "https://localhost:8080/"
        },
        "id": "mxbhXFOWaRxn",
        "outputId": "42c6602b-eb33-4e9e-f2c9-445c94c13adf"
      },
      "source": [
        "import os\n",
        "\n",
        "log_files = os.listdir(\"/content/classifier_logs_Bert\")\n",
        "log_files"
      ],
      "execution_count": null,
      "outputs": [
        {
          "output_type": "execute_result",
          "data": {
            "text/plain": [
              "['ClassifierDLApproach_0a598a33b9ec.log']"
            ]
          },
          "metadata": {},
          "execution_count": 6
        }
      ]
    },
    {
      "cell_type": "code",
      "metadata": {
        "colab": {
          "base_uri": "https://localhost:8080/"
        },
        "id": "k3xF_J7efRiG",
        "outputId": "be8f48e2-902a-4553-ccb2-9ce56f8d8fb8"
      },
      "source": [
        "with open(\"/content/classifier_logs_Bert/\"+log_files[0]) as log_file:\n",
        "    print(log_file.read())"
      ],
      "execution_count": null,
      "outputs": [
        {
          "output_type": "stream",
          "name": "stdout",
          "text": [
            "Training started - epochs: 125 - learning_rate: 7.0E-4 - batch_size: 64 - training_examples: 40000 - classes: 2\n",
            "Epoch 0/125 - 3.10s - loss: 304.901 - acc: 0.82385 - batches: 625\n",
            "Epoch 1/125 - 2.38s - loss: 287.4698 - acc: 0.8568 - batches: 625\n",
            "Epoch 2/125 - 2.52s - loss: 282.4568 - acc: 0.86515 - batches: 625\n",
            "Epoch 3/125 - 2.30s - loss: 279.53622 - acc: 0.870625 - batches: 625\n",
            "Epoch 4/125 - 2.31s - loss: 277.23898 - acc: 0.874325 - batches: 625\n",
            "Epoch 5/125 - 2.37s - loss: 275.39587 - acc: 0.87735 - batches: 625\n",
            "Epoch 6/125 - 2.33s - loss: 273.97437 - acc: 0.8804 - batches: 625\n",
            "Epoch 7/125 - 2.31s - loss: 272.88947 - acc: 0.88245 - batches: 625\n",
            "Epoch 8/125 - 2.33s - loss: 272.02692 - acc: 0.884525 - batches: 625\n",
            "Epoch 9/125 - 2.41s - loss: 271.30258 - acc: 0.88605 - batches: 625\n",
            "Epoch 10/125 - 2.30s - loss: 270.67545 - acc: 0.887375 - batches: 625\n",
            "Epoch 11/125 - 2.31s - loss: 270.12384 - acc: 0.888625 - batches: 625\n",
            "Epoch 12/125 - 2.33s - loss: 269.6141 - acc: 0.88965 - batches: 625\n",
            "Epoch 13/125 - 2.40s - loss: 269.13147 - acc: 0.8905 - batches: 625\n",
            "Epoch 14/125 - 2.31s - loss: 268.6666 - acc: 0.891825 - batches: 625\n",
            "Epoch 15/125 - 2.30s - loss: 268.2274 - acc: 0.892375 - batches: 625\n",
            "Epoch 16/125 - 2.29s - loss: 267.8204 - acc: 0.893375 - batches: 625\n",
            "Epoch 17/125 - 2.38s - loss: 267.43387 - acc: 0.89405 - batches: 625\n",
            "Epoch 18/125 - 2.30s - loss: 267.06708 - acc: 0.894675 - batches: 625\n",
            "Epoch 19/125 - 2.29s - loss: 266.72675 - acc: 0.895475 - batches: 625\n",
            "Epoch 20/125 - 2.28s - loss: 266.40814 - acc: 0.89625 - batches: 625\n",
            "Epoch 21/125 - 2.42s - loss: 266.11456 - acc: 0.896825 - batches: 625\n",
            "Epoch 22/125 - 2.33s - loss: 265.8392 - acc: 0.897475 - batches: 625\n",
            "Epoch 23/125 - 2.29s - loss: 265.58063 - acc: 0.8981 - batches: 625\n",
            "Epoch 24/125 - 2.33s - loss: 265.34238 - acc: 0.898475 - batches: 625\n",
            "Epoch 25/125 - 2.39s - loss: 265.11874 - acc: 0.898975 - batches: 625\n",
            "Epoch 26/125 - 2.33s - loss: 264.9076 - acc: 0.899225 - batches: 625\n",
            "Epoch 27/125 - 2.30s - loss: 264.7063 - acc: 0.8997 - batches: 625\n",
            "Epoch 28/125 - 2.39s - loss: 264.51477 - acc: 0.90015 - batches: 625\n",
            "Epoch 29/125 - 2.31s - loss: 264.32974 - acc: 0.9006 - batches: 625\n",
            "Epoch 30/125 - 2.30s - loss: 264.15414 - acc: 0.900775 - batches: 625\n",
            "Epoch 31/125 - 2.29s - loss: 263.98755 - acc: 0.90115 - batches: 625\n",
            "Epoch 32/125 - 2.42s - loss: 263.82898 - acc: 0.901425 - batches: 625\n",
            "Epoch 33/125 - 2.29s - loss: 263.6745 - acc: 0.901725 - batches: 625\n",
            "Epoch 34/125 - 2.30s - loss: 263.52707 - acc: 0.90195 - batches: 625\n",
            "Epoch 35/125 - 2.28s - loss: 263.38443 - acc: 0.902425 - batches: 625\n",
            "Epoch 36/125 - 2.44s - loss: 263.25116 - acc: 0.9027 - batches: 625\n",
            "Epoch 37/125 - 2.29s - loss: 263.12643 - acc: 0.903025 - batches: 625\n",
            "Epoch 38/125 - 2.33s - loss: 263.0082 - acc: 0.9031 - batches: 625\n",
            "Epoch 39/125 - 2.33s - loss: 262.89688 - acc: 0.903275 - batches: 625\n",
            "Epoch 40/125 - 2.42s - loss: 262.78903 - acc: 0.9034 - batches: 625\n",
            "Epoch 41/125 - 2.31s - loss: 262.68585 - acc: 0.903825 - batches: 625\n",
            "Epoch 42/125 - 2.33s - loss: 262.58746 - acc: 0.904125 - batches: 625\n",
            "Epoch 43/125 - 2.33s - loss: 262.4909 - acc: 0.90445 - batches: 625\n",
            "Epoch 44/125 - 2.46s - loss: 262.40054 - acc: 0.904675 - batches: 625\n",
            "Epoch 45/125 - 2.32s - loss: 262.31494 - acc: 0.904925 - batches: 625\n",
            "Epoch 46/125 - 2.33s - loss: 262.2305 - acc: 0.905075 - batches: 625\n",
            "Epoch 47/125 - 2.31s - loss: 262.15353 - acc: 0.90535 - batches: 625\n",
            "Epoch 48/125 - 2.42s - loss: 262.0772 - acc: 0.905525 - batches: 625\n",
            "Epoch 49/125 - 2.30s - loss: 262.00656 - acc: 0.905575 - batches: 625\n",
            "Epoch 50/125 - 2.35s - loss: 261.93393 - acc: 0.905775 - batches: 625\n",
            "Epoch 51/125 - 2.31s - loss: 261.8671 - acc: 0.9059 - batches: 625\n",
            "Epoch 52/125 - 2.41s - loss: 261.802 - acc: 0.90605 - batches: 625\n",
            "Epoch 53/125 - 2.29s - loss: 261.7394 - acc: 0.9063 - batches: 625\n",
            "Epoch 54/125 - 2.33s - loss: 261.6772 - acc: 0.90645 - batches: 625\n",
            "Epoch 55/125 - 2.36s - loss: 261.61682 - acc: 0.9066 - batches: 625\n",
            "Epoch 56/125 - 2.43s - loss: 261.5577 - acc: 0.906675 - batches: 625\n",
            "Epoch 57/125 - 2.33s - loss: 261.49915 - acc: 0.906725 - batches: 625\n",
            "Epoch 58/125 - 2.35s - loss: 261.44534 - acc: 0.90695 - batches: 625\n",
            "Epoch 59/125 - 2.30s - loss: 261.39188 - acc: 0.9072 - batches: 625\n",
            "Epoch 60/125 - 2.42s - loss: 261.3388 - acc: 0.907325 - batches: 625\n",
            "Epoch 61/125 - 2.32s - loss: 261.28717 - acc: 0.9074 - batches: 625\n",
            "Epoch 62/125 - 2.31s - loss: 261.2373 - acc: 0.9076 - batches: 625\n",
            "Epoch 63/125 - 2.32s - loss: 261.1906 - acc: 0.907675 - batches: 625\n",
            "Epoch 64/125 - 2.43s - loss: 261.14185 - acc: 0.9078 - batches: 625\n",
            "Epoch 65/125 - 2.31s - loss: 261.0963 - acc: 0.90775 - batches: 625\n",
            "Epoch 66/125 - 2.36s - loss: 261.05176 - acc: 0.907875 - batches: 625\n",
            "Epoch 67/125 - 2.41s - loss: 261.00797 - acc: 0.90805 - batches: 625\n",
            "Epoch 68/125 - 2.48s - loss: 260.96634 - acc: 0.90835 - batches: 625\n",
            "Epoch 69/125 - 2.32s - loss: 260.92477 - acc: 0.908475 - batches: 625\n",
            "Epoch 70/125 - 2.34s - loss: 260.88632 - acc: 0.908675 - batches: 625\n",
            "Epoch 71/125 - 2.32s - loss: 260.84732 - acc: 0.90885 - batches: 625\n",
            "Epoch 72/125 - 2.46s - loss: 260.81076 - acc: 0.9091 - batches: 625\n",
            "Epoch 73/125 - 2.32s - loss: 260.7738 - acc: 0.90915 - batches: 625\n",
            "Epoch 74/125 - 2.37s - loss: 260.7387 - acc: 0.909325 - batches: 625\n",
            "Epoch 75/125 - 2.33s - loss: 260.70355 - acc: 0.90945 - batches: 625\n",
            "Epoch 76/125 - 2.46s - loss: 260.6689 - acc: 0.90975 - batches: 625\n",
            "Epoch 77/125 - 2.33s - loss: 260.63528 - acc: 0.90985 - batches: 625\n",
            "Epoch 78/125 - 2.34s - loss: 260.60132 - acc: 0.90995 - batches: 625\n",
            "Epoch 79/125 - 2.32s - loss: 260.57028 - acc: 0.910075 - batches: 625\n",
            "Epoch 80/125 - 2.46s - loss: 260.53903 - acc: 0.9102 - batches: 625\n",
            "Epoch 81/125 - 2.32s - loss: 260.50797 - acc: 0.910325 - batches: 625\n",
            "Epoch 82/125 - 2.37s - loss: 260.4782 - acc: 0.9104 - batches: 625\n",
            "Epoch 83/125 - 2.32s - loss: 260.44687 - acc: 0.910425 - batches: 625\n",
            "Epoch 84/125 - 2.43s - loss: 260.41772 - acc: 0.910575 - batches: 625\n",
            "Epoch 85/125 - 2.35s - loss: 260.3869 - acc: 0.9106 - batches: 625\n",
            "Epoch 86/125 - 2.38s - loss: 260.35785 - acc: 0.910725 - batches: 625\n",
            "Epoch 87/125 - 2.36s - loss: 260.32846 - acc: 0.91095 - batches: 625\n",
            "Epoch 88/125 - 2.45s - loss: 260.29837 - acc: 0.911125 - batches: 625\n",
            "Epoch 89/125 - 2.35s - loss: 260.27115 - acc: 0.911375 - batches: 625\n",
            "Epoch 90/125 - 2.40s - loss: 260.2423 - acc: 0.9116 - batches: 625\n",
            "Epoch 91/125 - 2.37s - loss: 260.2144 - acc: 0.911775 - batches: 625\n",
            "Epoch 92/125 - 2.42s - loss: 260.1862 - acc: 0.911825 - batches: 625\n",
            "Epoch 93/125 - 2.33s - loss: 260.1574 - acc: 0.91195 - batches: 625\n",
            "Epoch 94/125 - 2.33s - loss: 260.13052 - acc: 0.912025 - batches: 625\n",
            "Epoch 95/125 - 2.31s - loss: 260.1033 - acc: 0.91205 - batches: 625\n",
            "Epoch 96/125 - 2.43s - loss: 260.0764 - acc: 0.912175 - batches: 625\n",
            "Epoch 97/125 - 2.35s - loss: 260.0495 - acc: 0.91225 - batches: 625\n",
            "Epoch 98/125 - 2.33s - loss: 260.02383 - acc: 0.912375 - batches: 625\n",
            "Epoch 99/125 - 2.32s - loss: 259.99744 - acc: 0.912425 - batches: 625\n",
            "Epoch 100/125 - 2.37s - loss: 259.97104 - acc: 0.912425 - batches: 625\n",
            "Epoch 101/125 - 2.37s - loss: 259.9453 - acc: 0.912475 - batches: 625\n",
            "Epoch 102/125 - 2.33s - loss: 259.9183 - acc: 0.912575 - batches: 625\n",
            "Epoch 103/125 - 2.33s - loss: 259.89337 - acc: 0.912675 - batches: 625\n",
            "Epoch 104/125 - 2.38s - loss: 259.8672 - acc: 0.91275 - batches: 625\n",
            "Epoch 105/125 - 2.45s - loss: 259.84152 - acc: 0.9129 - batches: 625\n",
            "Epoch 106/125 - 2.34s - loss: 259.81647 - acc: 0.912975 - batches: 625\n",
            "Epoch 107/125 - 2.32s - loss: 259.79196 - acc: 0.913025 - batches: 625\n",
            "Epoch 108/125 - 2.34s - loss: 259.76645 - acc: 0.9131 - batches: 625\n",
            "Epoch 109/125 - 2.40s - loss: 259.7408 - acc: 0.913125 - batches: 625\n",
            "Epoch 110/125 - 2.34s - loss: 259.71555 - acc: 0.91315 - batches: 625\n",
            "Epoch 111/125 - 2.34s - loss: 259.69147 - acc: 0.913275 - batches: 625\n",
            "Epoch 112/125 - 2.33s - loss: 259.66785 - acc: 0.913325 - batches: 625\n",
            "Epoch 113/125 - 2.42s - loss: 259.64365 - acc: 0.913375 - batches: 625\n",
            "Epoch 114/125 - 2.33s - loss: 259.61908 - acc: 0.9135 - batches: 625\n",
            "Epoch 115/125 - 2.31s - loss: 259.59607 - acc: 0.913525 - batches: 625\n",
            "Epoch 116/125 - 2.32s - loss: 259.57205 - acc: 0.913675 - batches: 625\n",
            "Epoch 117/125 - 2.43s - loss: 259.5493 - acc: 0.91365 - batches: 625\n",
            "Epoch 118/125 - 2.35s - loss: 259.52502 - acc: 0.9136 - batches: 625\n",
            "Epoch 119/125 - 2.34s - loss: 259.50232 - acc: 0.91365 - batches: 625\n",
            "Epoch 120/125 - 2.32s - loss: 259.47867 - acc: 0.913725 - batches: 625\n",
            "Epoch 121/125 - 2.43s - loss: 259.4566 - acc: 0.9138 - batches: 625\n",
            "Epoch 122/125 - 2.32s - loss: 259.43405 - acc: 0.91385 - batches: 625\n",
            "Epoch 123/125 - 2.33s - loss: 259.41223 - acc: 0.913975 - batches: 625\n",
            "Epoch 124/125 - 2.35s - loss: 259.3904 - acc: 0.91395 - batches: 625\n",
            "\n"
          ]
        }
      ]
    },
    {
      "cell_type": "markdown",
      "metadata": {
        "id": "CAUVkwZ-qMNI"
      },
      "source": [
        "## 3.5 Plot Bert Accuracy and Loss"
      ]
    },
    {
      "cell_type": "code",
      "metadata": {
        "colab": {
          "base_uri": "https://localhost:8080/",
          "height": 513
        },
        "id": "MTqHKvCJfpPG",
        "outputId": "2d8b7979-66cb-4d9e-faf4-85dbb59f07f7"
      },
      "source": [
        "acc_plot(\"/content/classifier_logs_Bert/\"+log_files[0])"
      ],
      "execution_count": null,
      "outputs": [
        {
          "output_type": "display_data",
          "data": {
            "image/png": "[encoded data removed]",
            "text/plain": [
              "<Figure size 576x576 with 1 Axes>"
            ]
          },
          "metadata": {
            "needs_background": "light"
          }
        }
      ]
    },
    {
      "cell_type": "code",
      "metadata": {
        "colab": {
          "base_uri": "https://localhost:8080/",
          "height": 513
        },
        "id": "q2hJ8uO8qRlm",
        "outputId": "3089ff98-4b9d-48dd-f41d-cbca6c217e59"
      },
      "source": [
        "loss_plot(\"/content/classifier_logs_Bert/\"+log_files[0])"
      ],
      "execution_count": null,
      "outputs": [
        {
          "output_type": "display_data",
          "data": {
            "image/png": "[encoded data removed]",
            "text/plain": [
              "<Figure size 576x576 with 1 Axes>"
            ]
          },
          "metadata": {
            "needs_background": "light"
          }
        }
      ]
    },
    {
      "cell_type": "markdown",
      "metadata": {
        "id": "vlzoP8IYeOrP"
      },
      "source": [
        "##5. Evaluate Trained Model on Test Data"
      ]
    },
    {
      "cell_type": "code",
      "metadata": {
        "id": "MKMRrNr9MHln",
        "colab": {
          "base_uri": "https://localhost:8080/"
        },
        "outputId": "72eff4b8-dfc4-4b0e-ec88-ee2bca9e5b66"
      },
      "source": [
        "preds = mutli_lingual_model.transform(test_df)\n",
        "preds.show()"
      ],
      "execution_count": null,
      "outputs": [
        {
          "output_type": "stream",
          "name": "stdout",
          "text": [
            "+------+---------------------------------+--------+--------------------+--------------------+--------------------+\n",
            "|   _c0|                             text|       y|            document| sentence_embeddings|               class|\n",
            "+------+---------------------------------+--------+--------------------+--------------------+--------------------+\n",
            "|800000|케빈의 연기력도 허접한 감독의 ...|negative|[[document, 0, 30...|[[sentence_embedd...|[[category, 0, 30...|\n",
            "|800001|            roki79@nate.com 기...|positive|[[document, 0, 64...|[[sentence_embedd...|[[category, 0, 64...|\n",
            "|800002|             Se aprendem a faz...|positive|[[document, 0, 19...|[[sentence_embedd...|[[category, 0, 19...|\n",
            "|800003|             @little_bluebit n...|negative|[[document, 0, 71...|[[sentence_embedd...|[[category, 0, 71...|\n",
            "|800004|             Quem se sente inc...|positive|[[document, 0, 37...|[[sentence_embedd...|[[category, 0, 37...|\n",
            "|800005|             eheheh hoje vou e...|positive|[[document, 0, 69...|[[sentence_embedd...|[[category, 0, 69...|\n",
            "|800006|             Romantická komedi...|negative|[[document, 0, 18...|[[sentence_embedd...|[[category, 0, 18...|\n",
            "|800007|             Nechápu jestli se...|negative|[[document, 0, 99...|[[sentence_embedd...|[[category, 0, 99...|\n",
            "|800008|인피니트 언제나 멋지고 열심히 ...|positive|[[document, 0, 67...|[[sentence_embedd...|[[category, 0, 67...|\n",
            "|800009|             @mizanzika Então ...|positive|[[document, 0, 21...|[[sentence_embedd...|[[category, 0, 21...|\n",
            "|800010|             não tenho condiçõ...|negative|[[document, 0, 64...|[[sentence_embedd...|[[category, 0, 64...|\n",
            "|800011|             eu tenho 5 contas...|positive|[[document, 0, 12...|[[sentence_embedd...|[[category, 0, 12...|\n",
            "|800012|             Me arrependi tant...|negative|[[document, 0, 69...|[[sentence_embedd...|[[category, 0, 69...|\n",
            "|800013|지금 농락하냐 애라이 다시는 않...|negative|[[document, 0, 21...|[[sentence_embedd...|[[category, 0, 21...|\n",
            "|800014|             @faustchulhu @sra...|positive|[[document, 0, 11...|[[sentence_embedd...|[[category, 0, 11...|\n",
            "|800015|             amanhã vou ter de...|negative|[[document, 0, 68...|[[sentence_embedd...|[[category, 0, 68...|\n",
            "|800016|             Tak ze začátku to...|negative|[[document, 0, 15...|[[sentence_embedd...|[[category, 0, 15...|\n",
            "|800017|               que ódio de mim :(|negative|[[document, 0, 17...|[[sentence_embedd...|[[category, 0, 17...|\n",
            "|800018|             هناك كلمات مهمة ج...|positive|[[document, 0, 11...|[[sentence_embedd...|[[category, 0, 11...|\n",
            "|800019|             @daquivouproalem ...|negative|[[document, 0, 63...|[[sentence_embedd...|[[category, 0, 63...|\n",
            "+------+---------------------------------+--------+--------------------+--------------------+--------------------+\n",
            "only showing top 20 rows\n",
            "\n"
          ]
        }
      ]
    },
    {
      "cell_type": "code",
      "metadata": {
        "id": "xbAeIIjhdMp1",
        "colab": {
          "base_uri": "https://localhost:8080/",
          "height": 424
        },
        "outputId": "b804de8b-98f8-4a80-96f7-e1cc10031c54"
      },
      "source": [
        "df = preds.select(['y','class.result']).toPandas()\n",
        "df['result'] = df['result'].apply(lambda x : x[0])\n",
        "df"
      ],
      "execution_count": null,
      "outputs": [
        {
          "output_type": "execute_result",
          "data": {
            "text/html": [
              "<div>\n",
              "<style scoped>\n",
              "    .dataframe tbody tr th:only-of-type {\n",
              "        vertical-align: middle;\n",
              "    }\n",
              "\n",
              "    .dataframe tbody tr th {\n",
              "        vertical-align: top;\n",
              "    }\n",
              "\n",
              "    .dataframe thead th {\n",
              "        text-align: right;\n",
              "    }\n",
              "</style>\n",
              "<table border=\"1\" class=\"dataframe\">\n",
              "  <thead>\n",
              "    <tr style=\"text-align: right;\">\n",
              "      <th></th>\n",
              "      <th>y</th>\n",
              "      <th>result</th>\n",
              "    </tr>\n",
              "  </thead>\n",
              "  <tbody>\n",
              "    <tr>\n",
              "      <th>0</th>\n",
              "      <td>negative</td>\n",
              "      <td>positive</td>\n",
              "    </tr>\n",
              "    <tr>\n",
              "      <th>1</th>\n",
              "      <td>positive</td>\n",
              "      <td>positive</td>\n",
              "    </tr>\n",
              "    <tr>\n",
              "      <th>2</th>\n",
              "      <td>positive</td>\n",
              "      <td>positive</td>\n",
              "    </tr>\n",
              "    <tr>\n",
              "      <th>3</th>\n",
              "      <td>negative</td>\n",
              "      <td>negative</td>\n",
              "    </tr>\n",
              "    <tr>\n",
              "      <th>4</th>\n",
              "      <td>positive</td>\n",
              "      <td>positive</td>\n",
              "    </tr>\n",
              "    <tr>\n",
              "      <th>...</th>\n",
              "      <td>...</td>\n",
              "      <td>...</td>\n",
              "    </tr>\n",
              "    <tr>\n",
              "      <th>6995</th>\n",
              "      <td>negative</td>\n",
              "      <td>positive</td>\n",
              "    </tr>\n",
              "    <tr>\n",
              "      <th>6996</th>\n",
              "      <td>negative</td>\n",
              "      <td>negative</td>\n",
              "    </tr>\n",
              "    <tr>\n",
              "      <th>6997</th>\n",
              "      <td>positive</td>\n",
              "      <td>negative</td>\n",
              "    </tr>\n",
              "    <tr>\n",
              "      <th>6998</th>\n",
              "      <td>positive</td>\n",
              "      <td>positive</td>\n",
              "    </tr>\n",
              "    <tr>\n",
              "      <th>6999</th>\n",
              "      <td>negative</td>\n",
              "      <td>negative</td>\n",
              "    </tr>\n",
              "  </tbody>\n",
              "</table>\n",
              "<p>7000 rows × 2 columns</p>\n",
              "</div>"
            ],
            "text/plain": [
              "             y    result\n",
              "0     negative  positive\n",
              "1     positive  positive\n",
              "2     positive  positive\n",
              "3     negative  negative\n",
              "4     positive  positive\n",
              "...        ...       ...\n",
              "6995  negative  positive\n",
              "6996  negative  negative\n",
              "6997  positive  negative\n",
              "6998  positive  positive\n",
              "6999  negative  negative\n",
              "\n",
              "[7000 rows x 2 columns]"
            ]
          },
          "metadata": {},
          "execution_count": 11
        }
      ]
    },
    {
      "cell_type": "code",
      "metadata": {
        "id": "Vd-i2NYWnXSI",
        "colab": {
          "base_uri": "https://localhost:8080/"
        },
        "outputId": "d58d2d3c-a9f1-4376-f26f-8c0a1e7100de"
      },
      "source": [
        "# We are going to use sklearn to evalute the results on test dataset\n",
        "from sklearn.metrics import classification_report\n",
        "print(classification_report(df['result'], df['y']))"
      ],
      "execution_count": null,
      "outputs": [
        {
          "output_type": "stream",
          "name": "stdout",
          "text": [
            "              precision    recall  f1-score   support\n",
            "\n",
            "    negative       0.85      0.85      0.85      3496\n",
            "    positive       0.85      0.85      0.85      3504\n",
            "\n",
            "    accuracy                           0.85      7000\n",
            "   macro avg       0.85      0.85      0.85      7000\n",
            "weighted avg       0.85      0.85      0.85      7000\n",
            "\n"
          ]
        }
      ]
    },
    {
      "cell_type": "code",
      "metadata": {
        "colab": {
          "base_uri": "https://localhost:8080/"
        },
        "id": "O90HpAtWrNR7",
        "outputId": "d109e263-b98b-4103-8d8a-c4adffcf2a39"
      },
      "source": [
        "from sklearn.metrics import f1_score,precision_score,accuracy_score\n",
        "Bert_f1= f1_score(df['result'], df['y'], average='macro')\n",
        "Bert_f1_precision = precision_score(df['result'], df['y'], average='macro')\n",
        "print(Bert_f1, Bert_f1_precision)"
      ],
      "execution_count": null,
      "outputs": [
        {
          "output_type": "stream",
          "name": "stdout",
          "text": [
            "0.8522857142857143 0.8522868274766726\n"
          ]
        }
      ]
    },
    {
      "cell_type": "markdown",
      "metadata": {
        "id": "Tvh4RHrK5j4G"
      },
      "source": [
        "##6. Train Model with DistilBERT "
      ]
    },
    {
      "cell_type": "code",
      "execution_count": null,
      "metadata": {
        "id": "4DtWgZgP5j4H"
      },
      "outputs": [],
      "source": [
        "!mkdir classifier_logs_DistilBERT \n"
      ]
    },
    {
      "cell_type": "code",
      "execution_count": null,
      "metadata": {
        "colab": {
          "base_uri": "https://localhost:8080/"
        },
        "outputId": "421c94ca-b367-4857-ea3a-e41dc638d233",
        "id": "ur8-m9KZ5j4H"
      },
      "outputs": [
        {
          "output_type": "stream",
          "name": "stdout",
          "text": [
            "distilbert_base_multilingual_cased download started this may take some time.\n",
            "Approximate size to download 482 MB\n",
            "[OK!]\n"
          ]
        }
      ],
      "source": [
        "from pyspark.ml import Pipeline\n",
        "from sparknlp.annotator import *\n",
        "from sparknlp.common import *\n",
        "from sparknlp.base import *\n",
        "\n",
        "\n",
        "document = DocumentAssembler()\\\n",
        "    .setInputCol(\"text\")\\\n",
        "    .setOutputCol(\"document\")\n",
        "embeddings  = DistilBertEmbeddings.pretrained(\"distilbert_base_multilingual_cased\", \"xx\") \\\n",
        "      .setInputCols(\"document\", \"token\") \\\n",
        "      .setOutputCol(\"embeddings\")\n",
        "tokenizer = Tokenizer() \\\n",
        "      .setInputCols([\"document\"]) \\\n",
        "      .setOutputCol(\"token\")\n",
        "classifierDl = ClassifierDLApproach()\\\n",
        "  .setInputCols([\"sentence_embeddings\"])\\\n",
        "  .setOutputCol(\"class\")\\\n",
        "  .setLabelColumn(\"y\")\\\n",
        "  .setMaxEpochs(125)\\\n",
        "  .setLr(0.0007)  \\\n",
        "  .setEnableOutputLogs(True)\\\n",
        "  .setOutputLogsPath('classifier_logs_DistilBERT')\n",
        "embeddingsSentence = SentenceEmbeddings() \\\n",
        "      .setInputCols([\"document\", \"embeddings\"]) \\\n",
        "      .setOutputCol(\"sentence_embeddings\") \\\n",
        "      .setPoolingStrategy(\"AVERAGE\")\n",
        "pipeline = Pipeline(\n",
        "    stages = [\n",
        "        document,\n",
        "        tokenizer,\n",
        "        embeddings ,\n",
        "        embeddingsSentence,\n",
        "        classifierDl\n",
        "    ])\n",
        "\n",
        "mutli_lingual_model_Distil_Bert = pipeline.fit(train_df)\n"
      ]
    },
    {
      "cell_type": "code",
      "execution_count": null,
      "metadata": {
        "colab": {
          "base_uri": "https://localhost:8080/"
        },
        "outputId": "96d6b9b2-16cc-4072-9b5b-0344c7746dec",
        "id": "a_QFK0wI5j4I"
      },
      "outputs": [
        {
          "output_type": "execute_result",
          "data": {
            "text/plain": [
              "['ClassifierDLApproach_47715179e492.log']"
            ]
          },
          "metadata": {},
          "execution_count": 6
        }
      ],
      "source": [
        "import os\n",
        "\n",
        "log_files = os.listdir(\"/content/classifier_logs_DistilBERT\")\n",
        "log_files"
      ]
    },
    {
      "cell_type": "code",
      "execution_count": null,
      "metadata": {
        "colab": {
          "base_uri": "https://localhost:8080/"
        },
        "outputId": "6a43b93b-f149-443c-b8e9-4569bdfa18c1",
        "id": "L7cchuGh5j4J"
      },
      "outputs": [
        {
          "output_type": "stream",
          "name": "stdout",
          "text": [
            "Training started - epochs: 125 - learning_rate: 7.0E-4 - batch_size: 64 - training_examples: 40000 - classes: 2\n",
            "Epoch 0/125 - 2.79s - loss: 385.89658 - acc: 0.64955 - batches: 625\n",
            "Epoch 1/125 - 2.56s - loss: 367.54022 - acc: 0.68365 - batches: 625\n",
            "Epoch 2/125 - 2.61s - loss: 362.5617 - acc: 0.694475 - batches: 625\n",
            "Epoch 3/125 - 2.45s - loss: 359.78 - acc: 0.70155 - batches: 625\n",
            "Epoch 4/125 - 2.36s - loss: 357.6727 - acc: 0.70645 - batches: 625\n",
            "Epoch 5/125 - 2.36s - loss: 356.02975 - acc: 0.70965 - batches: 625\n",
            "Epoch 6/125 - 2.31s - loss: 354.62772 - acc: 0.71315 - batches: 625\n",
            "Epoch 7/125 - 2.31s - loss: 353.43567 - acc: 0.715725 - batches: 625\n",
            "Epoch 8/125 - 2.34s - loss: 352.4083 - acc: 0.7182 - batches: 625\n",
            "Epoch 9/125 - 2.30s - loss: 351.51413 - acc: 0.7204 - batches: 625\n",
            "Epoch 10/125 - 2.31s - loss: 350.7243 - acc: 0.72265 - batches: 625\n",
            "Epoch 11/125 - 2.26s - loss: 350.00702 - acc: 0.72385 - batches: 625\n",
            "Epoch 12/125 - 2.27s - loss: 349.32724 - acc: 0.72555 - batches: 625\n",
            "Epoch 13/125 - 2.29s - loss: 348.70334 - acc: 0.726425 - batches: 625\n",
            "Epoch 14/125 - 2.29s - loss: 348.13016 - acc: 0.72805 - batches: 625\n",
            "Epoch 15/125 - 2.27s - loss: 347.59958 - acc: 0.729425 - batches: 625\n",
            "Epoch 16/125 - 2.28s - loss: 347.0929 - acc: 0.7307 - batches: 625\n",
            "Epoch 17/125 - 2.30s - loss: 346.6196 - acc: 0.731425 - batches: 625\n",
            "Epoch 18/125 - 2.24s - loss: 346.16852 - acc: 0.732275 - batches: 625\n",
            "Epoch 19/125 - 2.33s - loss: 345.7307 - acc: 0.733275 - batches: 625\n",
            "Epoch 20/125 - 2.37s - loss: 345.32434 - acc: 0.73435 - batches: 625\n",
            "Epoch 21/125 - 2.38s - loss: 344.92996 - acc: 0.735075 - batches: 625\n",
            "Epoch 22/125 - 2.37s - loss: 344.5491 - acc: 0.735825 - batches: 625\n",
            "Epoch 23/125 - 2.83s - loss: 344.18054 - acc: 0.736675 - batches: 625\n",
            "Epoch 24/125 - 2.37s - loss: 343.83786 - acc: 0.73715 - batches: 625\n",
            "Epoch 25/125 - 2.40s - loss: 343.49896 - acc: 0.737925 - batches: 625\n",
            "Epoch 26/125 - 2.43s - loss: 343.1815 - acc: 0.73835 - batches: 625\n",
            "Epoch 27/125 - 2.38s - loss: 342.86295 - acc: 0.7389 - batches: 625\n",
            "Epoch 28/125 - 2.39s - loss: 342.56018 - acc: 0.739625 - batches: 625\n",
            "Epoch 29/125 - 2.40s - loss: 342.25937 - acc: 0.740325 - batches: 625\n",
            "Epoch 30/125 - 2.46s - loss: 341.9693 - acc: 0.74075 - batches: 625\n",
            "Epoch 31/125 - 2.41s - loss: 341.69138 - acc: 0.7415 - batches: 625\n",
            "Epoch 32/125 - 2.30s - loss: 341.41812 - acc: 0.741975 - batches: 625\n",
            "Epoch 33/125 - 2.39s - loss: 341.14944 - acc: 0.742375 - batches: 625\n",
            "Epoch 34/125 - 2.46s - loss: 340.89114 - acc: 0.74295 - batches: 625\n",
            "Epoch 35/125 - 2.43s - loss: 340.638 - acc: 0.743425 - batches: 625\n",
            "Epoch 36/125 - 2.45s - loss: 340.38736 - acc: 0.744175 - batches: 625\n",
            "Epoch 37/125 - 2.31s - loss: 340.14365 - acc: 0.7448 - batches: 625\n",
            "Epoch 38/125 - 2.30s - loss: 339.90228 - acc: 0.7453 - batches: 625\n",
            "Epoch 39/125 - 2.27s - loss: 339.66885 - acc: 0.7458 - batches: 625\n",
            "Epoch 40/125 - 2.26s - loss: 339.44342 - acc: 0.746125 - batches: 625\n",
            "Epoch 41/125 - 2.25s - loss: 339.2211 - acc: 0.74635 - batches: 625\n",
            "Epoch 42/125 - 2.27s - loss: 338.99826 - acc: 0.7467 - batches: 625\n",
            "Epoch 43/125 - 2.30s - loss: 338.78406 - acc: 0.747075 - batches: 625\n",
            "Epoch 44/125 - 2.25s - loss: 338.5699 - acc: 0.747275 - batches: 625\n",
            "Epoch 45/125 - 2.31s - loss: 338.36383 - acc: 0.748075 - batches: 625\n",
            "Epoch 46/125 - 2.26s - loss: 338.15964 - acc: 0.748475 - batches: 625\n",
            "Epoch 47/125 - 2.26s - loss: 337.96478 - acc: 0.749125 - batches: 625\n",
            "Epoch 48/125 - 2.25s - loss: 337.77118 - acc: 0.749425 - batches: 625\n",
            "Epoch 49/125 - 2.26s - loss: 337.58356 - acc: 0.74965 - batches: 625\n",
            "Epoch 50/125 - 2.29s - loss: 337.3975 - acc: 0.750025 - batches: 625\n",
            "Epoch 51/125 - 2.26s - loss: 337.21378 - acc: 0.7504 - batches: 625\n",
            "Epoch 52/125 - 2.25s - loss: 337.0324 - acc: 0.750775 - batches: 625\n",
            "Epoch 53/125 - 2.25s - loss: 336.85437 - acc: 0.75115 - batches: 625\n",
            "Epoch 54/125 - 2.25s - loss: 336.67905 - acc: 0.75145 - batches: 625\n",
            "Epoch 55/125 - 2.26s - loss: 336.5074 - acc: 0.751825 - batches: 625\n",
            "Epoch 56/125 - 2.26s - loss: 336.34024 - acc: 0.75215 - batches: 625\n",
            "Epoch 57/125 - 2.26s - loss: 336.1759 - acc: 0.752375 - batches: 625\n",
            "Epoch 58/125 - 2.28s - loss: 336.01553 - acc: 0.7528 - batches: 625\n",
            "Epoch 59/125 - 2.35s - loss: 335.86014 - acc: 0.75315 - batches: 625\n",
            "Epoch 60/125 - 2.37s - loss: 335.70212 - acc: 0.753575 - batches: 625\n",
            "Epoch 61/125 - 2.40s - loss: 335.54742 - acc: 0.7539 - batches: 625\n",
            "Epoch 62/125 - 2.41s - loss: 335.3949 - acc: 0.754175 - batches: 625\n",
            "Epoch 63/125 - 2.39s - loss: 335.24405 - acc: 0.754475 - batches: 625\n",
            "Epoch 64/125 - 2.34s - loss: 335.09738 - acc: 0.754825 - batches: 625\n",
            "Epoch 65/125 - 2.38s - loss: 334.9513 - acc: 0.755225 - batches: 625\n",
            "Epoch 66/125 - 2.46s - loss: 334.81073 - acc: 0.755475 - batches: 625\n",
            "Epoch 67/125 - 2.26s - loss: 334.6711 - acc: 0.75565 - batches: 625\n",
            "Epoch 68/125 - 2.25s - loss: 334.5341 - acc: 0.755975 - batches: 625\n",
            "Epoch 69/125 - 2.25s - loss: 334.39536 - acc: 0.7561 - batches: 625\n",
            "Epoch 70/125 - 2.27s - loss: 334.25647 - acc: 0.756275 - batches: 625\n",
            "Epoch 71/125 - 2.26s - loss: 334.12155 - acc: 0.7565 - batches: 625\n",
            "Epoch 72/125 - 2.27s - loss: 333.98807 - acc: 0.75665 - batches: 625\n",
            "Epoch 73/125 - 2.28s - loss: 333.85477 - acc: 0.7568 - batches: 625\n",
            "Epoch 74/125 - 2.27s - loss: 333.72437 - acc: 0.757125 - batches: 625\n",
            "Epoch 75/125 - 2.25s - loss: 333.59497 - acc: 0.757125 - batches: 625\n",
            "Epoch 76/125 - 2.28s - loss: 333.46954 - acc: 0.757325 - batches: 625\n",
            "Epoch 77/125 - 2.28s - loss: 333.34146 - acc: 0.7575 - batches: 625\n",
            "Epoch 78/125 - 2.30s - loss: 333.21616 - acc: 0.75775 - batches: 625\n",
            "Epoch 79/125 - 2.29s - loss: 333.09314 - acc: 0.7579 - batches: 625\n",
            "Epoch 80/125 - 2.30s - loss: 332.97137 - acc: 0.758075 - batches: 625\n",
            "Epoch 81/125 - 2.30s - loss: 332.85043 - acc: 0.758225 - batches: 625\n",
            "Epoch 82/125 - 2.27s - loss: 332.7318 - acc: 0.75825 - batches: 625\n",
            "Epoch 83/125 - 2.25s - loss: 332.61252 - acc: 0.758525 - batches: 625\n",
            "Epoch 84/125 - 2.28s - loss: 332.49634 - acc: 0.75865 - batches: 625\n",
            "Epoch 85/125 - 2.23s - loss: 332.38342 - acc: 0.75895 - batches: 625\n",
            "Epoch 86/125 - 2.32s - loss: 332.27118 - acc: 0.75915 - batches: 625\n",
            "Epoch 87/125 - 2.26s - loss: 332.1585 - acc: 0.759325 - batches: 625\n",
            "Epoch 88/125 - 2.29s - loss: 332.05014 - acc: 0.7595 - batches: 625\n",
            "Epoch 89/125 - 2.30s - loss: 331.9426 - acc: 0.75975 - batches: 625\n",
            "Epoch 90/125 - 2.25s - loss: 331.83438 - acc: 0.760075 - batches: 625\n",
            "Epoch 91/125 - 2.24s - loss: 331.72794 - acc: 0.7603 - batches: 625\n",
            "Epoch 92/125 - 2.23s - loss: 331.6211 - acc: 0.760425 - batches: 625\n",
            "Epoch 93/125 - 2.24s - loss: 331.5162 - acc: 0.760725 - batches: 625\n",
            "Epoch 94/125 - 2.23s - loss: 331.41333 - acc: 0.76085 - batches: 625\n",
            "Epoch 95/125 - 2.25s - loss: 331.31088 - acc: 0.761025 - batches: 625\n",
            "Epoch 96/125 - 2.23s - loss: 331.21036 - acc: 0.7612 - batches: 625\n",
            "Epoch 97/125 - 2.23s - loss: 331.11053 - acc: 0.76135 - batches: 625\n",
            "Epoch 98/125 - 2.25s - loss: 331.01147 - acc: 0.761575 - batches: 625\n",
            "Epoch 99/125 - 2.22s - loss: 330.91412 - acc: 0.76175 - batches: 625\n",
            "Epoch 100/125 - 2.21s - loss: 330.81577 - acc: 0.761925 - batches: 625\n",
            "Epoch 101/125 - 2.24s - loss: 330.72043 - acc: 0.7621 - batches: 625\n",
            "Epoch 102/125 - 2.20s - loss: 330.62662 - acc: 0.76235 - batches: 625\n",
            "Epoch 103/125 - 2.26s - loss: 330.5325 - acc: 0.762525 - batches: 625\n",
            "Epoch 104/125 - 2.23s - loss: 330.43878 - acc: 0.762725 - batches: 625\n",
            "Epoch 105/125 - 2.22s - loss: 330.34692 - acc: 0.76295 - batches: 625\n",
            "Epoch 106/125 - 2.28s - loss: 330.25656 - acc: 0.763225 - batches: 625\n",
            "Epoch 107/125 - 2.31s - loss: 330.16544 - acc: 0.7633 - batches: 625\n",
            "Epoch 108/125 - 2.23s - loss: 330.07568 - acc: 0.7635 - batches: 625\n",
            "Epoch 109/125 - 2.25s - loss: 329.9871 - acc: 0.763675 - batches: 625\n",
            "Epoch 110/125 - 2.23s - loss: 329.8989 - acc: 0.7637 - batches: 625\n",
            "Epoch 111/125 - 2.24s - loss: 329.8126 - acc: 0.763875 - batches: 625\n",
            "Epoch 112/125 - 2.25s - loss: 329.72696 - acc: 0.76415 - batches: 625\n",
            "Epoch 113/125 - 2.21s - loss: 329.64014 - acc: 0.764325 - batches: 625\n",
            "Epoch 114/125 - 2.24s - loss: 329.55502 - acc: 0.7645 - batches: 625\n",
            "Epoch 115/125 - 2.28s - loss: 329.47 - acc: 0.76465 - batches: 625\n",
            "Epoch 116/125 - 2.26s - loss: 329.38724 - acc: 0.764775 - batches: 625\n",
            "Epoch 117/125 - 2.27s - loss: 329.30392 - acc: 0.76485 - batches: 625\n",
            "Epoch 118/125 - 2.26s - loss: 329.2226 - acc: 0.76505 - batches: 625\n",
            "Epoch 119/125 - 2.27s - loss: 329.14053 - acc: 0.76525 - batches: 625\n",
            "Epoch 120/125 - 2.24s - loss: 329.05908 - acc: 0.765575 - batches: 625\n",
            "Epoch 121/125 - 2.25s - loss: 328.9797 - acc: 0.7658 - batches: 625\n",
            "Epoch 122/125 - 2.27s - loss: 328.89987 - acc: 0.7659 - batches: 625\n",
            "Epoch 123/125 - 2.26s - loss: 328.8209 - acc: 0.766175 - batches: 625\n",
            "Epoch 124/125 - 2.26s - loss: 328.7436 - acc: 0.766325 - batches: 625\n",
            "\n"
          ]
        }
      ],
      "source": [
        "with open(\"/content/classifier_logs_DistilBERT/\"+log_files[0]) as log_file:\n",
        "    print(log_file.read())"
      ]
    },
    {
      "cell_type": "markdown",
      "metadata": {
        "id": "3-OY7kmW5j4J"
      },
      "source": [
        "## 6.5 Plot DistilBERT Accuracy and Loss"
      ]
    },
    {
      "cell_type": "code",
      "execution_count": null,
      "metadata": {
        "colab": {
          "base_uri": "https://localhost:8080/",
          "height": 514
        },
        "outputId": "b11fa6b1-f14c-424f-94c7-79a3b63d6d60",
        "id": "T_xuQd-K5j4J"
      },
      "outputs": [
        {
          "output_type": "display_data",
          "data": {
            "image/png": "[encoded data removed]",
            "text/plain": [
              "<Figure size 576x576 with 1 Axes>"
            ]
          },
          "metadata": {
            "needs_background": "light"
          }
        }
      ],
      "source": [
        "acc_plot(\"/content/classifier_logs_DistilBERT/\"+log_files[0])"
      ]
    },
    {
      "cell_type": "code",
      "execution_count": null,
      "metadata": {
        "colab": {
          "base_uri": "https://localhost:8080/",
          "height": 514
        },
        "outputId": "c109db5b-de23-44e8-e95c-ec5fa9b7024e",
        "id": "vSKqNgDN5j4J"
      },
      "outputs": [
        {
          "output_type": "display_data",
          "data": {
            "image/png": "[encoded data removed]",
            "text/plain": [
              "<Figure size 576x576 with 1 Axes>"
            ]
          },
          "metadata": {
            "needs_background": "light"
          }
        }
      ],
      "source": [
        "loss_plot(\"/content/classifier_logs_DistilBERT/\"+log_files[0])"
      ]
    },
    {
      "cell_type": "markdown",
      "metadata": {
        "id": "0JrrwEfe5j4K"
      },
      "source": [
        "##7. Evaluate Trained Model on Test Data"
      ]
    },
    {
      "cell_type": "code",
      "execution_count": null,
      "metadata": {
        "colab": {
          "base_uri": "https://localhost:8080/"
        },
        "outputId": "778015c6-96ff-4ba2-d21a-a0279649e6b6",
        "id": "No9aXD6S5j4K"
      },
      "outputs": [
        {
          "output_type": "stream",
          "name": "stdout",
          "text": [
            "+------+---------------------------------+--------+--------------------+----------------------+--------------------+--------------------+--------------------+\n",
            "|   _c0|                             text|       y|            document|                 token|          embeddings| sentence_embeddings|               class|\n",
            "+------+---------------------------------+--------+--------------------+----------------------+--------------------+--------------------+--------------------+\n",
            "|800000|케빈의 연기력도 허접한 감독의 ...|negative|[[document, 0, 30...|[[token, 0, 2, 케빈...|[[word_embeddings...|[[sentence_embedd...|[[category, 0, 30...|\n",
            "|800001|            roki79@nate.com 기...|positive|[[document, 0, 64...|  [[token, 0, 14, r...|[[word_embeddings...|[[sentence_embedd...|[[category, 0, 64...|\n",
            "|800002|             Se aprendem a faz...|positive|[[document, 0, 19...|  [[token, 0, 1, Se...|[[word_embeddings...|[[sentence_embedd...|[[category, 0, 19...|\n",
            "|800003|             @little_bluebit n...|negative|[[document, 0, 71...|  [[token, 0, 14, @...|[[word_embeddings...|[[sentence_embedd...|[[category, 0, 71...|\n",
            "|800004|             Quem se sente inc...|positive|[[document, 0, 37...|  [[token, 0, 3, Qu...|[[word_embeddings...|[[sentence_embedd...|[[category, 0, 37...|\n",
            "|800005|             eheheh hoje vou e...|positive|[[document, 0, 69...|  [[token, 0, 5, eh...|[[word_embeddings...|[[sentence_embedd...|[[category, 0, 69...|\n",
            "|800006|             Romantická komedi...|negative|[[document, 0, 18...|  [[token, 0, 9, Ro...|[[word_embeddings...|[[sentence_embedd...|[[category, 0, 18...|\n",
            "|800007|             Nechápu jestli se...|negative|[[document, 0, 99...|  [[token, 0, 6, Ne...|[[word_embeddings...|[[sentence_embedd...|[[category, 0, 99...|\n",
            "|800008|인피니트 언제나 멋지고 열심히 ...|positive|[[document, 0, 67...|[[token, 0, 3, 인피...|[[word_embeddings...|[[sentence_embedd...|[[category, 0, 67...|\n",
            "|800009|             @mizanzika Então ...|positive|[[document, 0, 21...|  [[token, 0, 9, @m...|[[word_embeddings...|[[sentence_embedd...|[[category, 0, 21...|\n",
            "|800010|             não tenho condiçõ...|negative|[[document, 0, 64...|  [[token, 0, 2, nã...|[[word_embeddings...|[[sentence_embedd...|[[category, 0, 64...|\n",
            "|800011|             eu tenho 5 contas...|positive|[[document, 0, 12...|  [[token, 0, 1, eu...|[[word_embeddings...|[[sentence_embedd...|[[category, 0, 12...|\n",
            "|800012|             Me arrependi tant...|negative|[[document, 0, 69...|  [[token, 0, 1, Me...|[[word_embeddings...|[[sentence_embedd...|[[category, 0, 69...|\n",
            "|800013|지금 농락하냐 애라이 다시는 않...|negative|[[document, 0, 21...|[[token, 0, 1, 지금...|[[word_embeddings...|[[sentence_embedd...|[[category, 0, 21...|\n",
            "|800014|             @faustchulhu @sra...|positive|[[document, 0, 11...|  [[token, 0, 11, @...|[[word_embeddings...|[[sentence_embedd...|[[category, 0, 11...|\n",
            "|800015|             amanhã vou ter de...|negative|[[document, 0, 68...|  [[token, 0, 5, am...|[[word_embeddings...|[[sentence_embedd...|[[category, 0, 68...|\n",
            "|800016|             Tak ze začátku to...|negative|[[document, 0, 15...|  [[token, 0, 2, Ta...|[[word_embeddings...|[[sentence_embedd...|[[category, 0, 15...|\n",
            "|800017|               que ódio de mim :(|negative|[[document, 0, 17...|  [[token, 0, 2, qu...|[[word_embeddings...|[[sentence_embedd...|[[category, 0, 17...|\n",
            "|800018|             هناك كلمات مهمة ج...|positive|[[document, 0, 11...|  [[token, 0, 3, هن...|[[word_embeddings...|[[sentence_embedd...|[[category, 0, 11...|\n",
            "|800019|             @daquivouproalem ...|negative|[[document, 0, 63...|  [[token, 0, 15, @...|[[word_embeddings...|[[sentence_embedd...|[[category, 0, 63...|\n",
            "+------+---------------------------------+--------+--------------------+----------------------+--------------------+--------------------+--------------------+\n",
            "only showing top 20 rows\n",
            "\n"
          ]
        }
      ],
      "source": [
        "preds = mutli_lingual_model_Distil_Bert.transform(test_df)\n",
        "preds.show()"
      ]
    },
    {
      "cell_type": "code",
      "execution_count": null,
      "metadata": {
        "colab": {
          "base_uri": "https://localhost:8080/",
          "height": 424
        },
        "outputId": "7614015d-a8fc-446d-90b5-52830c271f88",
        "id": "ZjgqMK4F5j4K"
      },
      "outputs": [
        {
          "output_type": "execute_result",
          "data": {
            "text/html": [
              "<div>\n",
              "<style scoped>\n",
              "    .dataframe tbody tr th:only-of-type {\n",
              "        vertical-align: middle;\n",
              "    }\n",
              "\n",
              "    .dataframe tbody tr th {\n",
              "        vertical-align: top;\n",
              "    }\n",
              "\n",
              "    .dataframe thead th {\n",
              "        text-align: right;\n",
              "    }\n",
              "</style>\n",
              "<table border=\"1\" class=\"dataframe\">\n",
              "  <thead>\n",
              "    <tr style=\"text-align: right;\">\n",
              "      <th></th>\n",
              "      <th>y</th>\n",
              "      <th>result</th>\n",
              "    </tr>\n",
              "  </thead>\n",
              "  <tbody>\n",
              "    <tr>\n",
              "      <th>0</th>\n",
              "      <td>negative</td>\n",
              "      <td>positive</td>\n",
              "    </tr>\n",
              "    <tr>\n",
              "      <th>1</th>\n",
              "      <td>positive</td>\n",
              "      <td>negative</td>\n",
              "    </tr>\n",
              "    <tr>\n",
              "      <th>2</th>\n",
              "      <td>positive</td>\n",
              "      <td>positive</td>\n",
              "    </tr>\n",
              "    <tr>\n",
              "      <th>3</th>\n",
              "      <td>negative</td>\n",
              "      <td>negative</td>\n",
              "    </tr>\n",
              "    <tr>\n",
              "      <th>4</th>\n",
              "      <td>positive</td>\n",
              "      <td>negative</td>\n",
              "    </tr>\n",
              "    <tr>\n",
              "      <th>...</th>\n",
              "      <td>...</td>\n",
              "      <td>...</td>\n",
              "    </tr>\n",
              "    <tr>\n",
              "      <th>6995</th>\n",
              "      <td>negative</td>\n",
              "      <td>positive</td>\n",
              "    </tr>\n",
              "    <tr>\n",
              "      <th>6996</th>\n",
              "      <td>negative</td>\n",
              "      <td>negative</td>\n",
              "    </tr>\n",
              "    <tr>\n",
              "      <th>6997</th>\n",
              "      <td>positive</td>\n",
              "      <td>positive</td>\n",
              "    </tr>\n",
              "    <tr>\n",
              "      <th>6998</th>\n",
              "      <td>positive</td>\n",
              "      <td>positive</td>\n",
              "    </tr>\n",
              "    <tr>\n",
              "      <th>6999</th>\n",
              "      <td>negative</td>\n",
              "      <td>negative</td>\n",
              "    </tr>\n",
              "  </tbody>\n",
              "</table>\n",
              "<p>7000 rows × 2 columns</p>\n",
              "</div>"
            ],
            "text/plain": [
              "             y    result\n",
              "0     negative  positive\n",
              "1     positive  negative\n",
              "2     positive  positive\n",
              "3     negative  negative\n",
              "4     positive  negative\n",
              "...        ...       ...\n",
              "6995  negative  positive\n",
              "6996  negative  negative\n",
              "6997  positive  positive\n",
              "6998  positive  positive\n",
              "6999  negative  negative\n",
              "\n",
              "[7000 rows x 2 columns]"
            ]
          },
          "metadata": {},
          "execution_count": 13
        }
      ],
      "source": [
        "df = preds.select(['y','class.result']).toPandas()\n",
        "df['result'] = df['result'].apply(lambda x : x[0])\n",
        "df"
      ]
    },
    {
      "cell_type": "code",
      "execution_count": null,
      "metadata": {
        "colab": {
          "base_uri": "https://localhost:8080/"
        },
        "outputId": "8f6a43a8-670f-483b-b94f-504a726be698",
        "id": "aCkLGPxa5j4K"
      },
      "outputs": [
        {
          "output_type": "stream",
          "name": "stdout",
          "text": [
            "              precision    recall  f1-score   support\n",
            "\n",
            "    negative       0.72      0.69      0.71      3654\n",
            "    positive       0.68      0.71      0.70      3346\n",
            "\n",
            "    accuracy                           0.70      7000\n",
            "   macro avg       0.70      0.70      0.70      7000\n",
            "weighted avg       0.70      0.70      0.70      7000\n",
            "\n"
          ]
        }
      ],
      "source": [
        "\n",
        "# We are going to use sklearn to evalute the results on test dataset\n",
        "from sklearn.metrics import classification_report\n",
        "print(classification_report(df['result'], df['y']))"
      ]
    },
    {
      "cell_type": "code",
      "execution_count": null,
      "metadata": {
        "colab": {
          "base_uri": "https://localhost:8080/"
        },
        "outputId": "219b7bc6-4a32-4208-b204-8cb05ca48208",
        "id": "j07LleJv5j4L"
      },
      "outputs": [
        {
          "output_type": "stream",
          "name": "stdout",
          "text": [
            "0.7018481007344232 0.7019751209470968\n"
          ]
        }
      ],
      "source": [
        "from sklearn.metrics import f1_score,precision_score,accuracy_score\n",
        "DistilBERT_f1= f1_score(df['result'], df['y'], average='macro')\n",
        "DistilBERT_f1_precision = precision_score(df['result'], df['y'], average='macro')\n",
        "print(DistilBERT_f1, DistilBERT_f1_precision)"
      ]
    },
    {
      "cell_type": "markdown",
      "metadata": {
        "id": "07qeKSKE9-DO"
      },
      "source": [
        "##8. Train Model with XLM-Roberta"
      ]
    },
    {
      "cell_type": "code",
      "metadata": {
        "id": "BLLWxCSL9-Dd"
      },
      "source": [
        "!mkdir classifier_logs_XLM_Roberta\n"
      ],
      "execution_count": null,
      "outputs": []
    },
    {
      "cell_type": "code",
      "metadata": {
        "colab": {
          "base_uri": "https://localhost:8080/"
        },
        "outputId": "5bf7e9d8-3401-4804-9c86-1ace383bc1a5",
        "id": "uTzQ3-x79-Dd"
      },
      "source": [
        "from pyspark.ml import Pipeline\n",
        "from sparknlp.annotator import *\n",
        "from sparknlp.common import *\n",
        "from sparknlp.base import *\n",
        "\n",
        "\n",
        "document = DocumentAssembler()\\\n",
        "    .setInputCol(\"text\")\\\n",
        "    .setOutputCol(\"document\")\n",
        "sent_embeddings =  XlmRoBertaSentenceEmbeddings.pretrained(\"sent_xlm_roberta_base\", \"xx\") \\\n",
        "      .setInputCols(\"document\") \\\n",
        "      .setOutputCol(\"sentence_embeddings\")\n",
        "classifierDl = ClassifierDLApproach()\\\n",
        "  .setInputCols([\"sentence_embeddings\"])\\\n",
        "  .setOutputCol(\"class\")\\\n",
        "  .setLabelColumn(\"y\")\\\n",
        "  .setMaxEpochs(125)\\\n",
        "  .setLr(0.0007)  \\\n",
        "  .setEnableOutputLogs(True)\\\n",
        "  .setOutputLogsPath('classifier_logs_XLM_Roberta')\n",
        "\n",
        "pipeline = Pipeline(\n",
        "    stages = [\n",
        "        document,\n",
        "        sent_embeddings,\n",
        "        classifierDl\n",
        "    ])\n",
        "\n",
        "mutli_lingual_model_XLM_Roberta = pipeline.fit(train_df)\n"
      ],
      "execution_count": null,
      "outputs": [
        {
          "output_type": "stream",
          "name": "stdout",
          "text": [
            "sent_xlm_roberta_base download started this may take some time.\n",
            "Approximate size to download 619.5 MB\n",
            "[OK!]\n"
          ]
        }
      ]
    },
    {
      "cell_type": "code",
      "metadata": {
        "colab": {
          "base_uri": "https://localhost:8080/"
        },
        "outputId": "01053181-6dee-45f2-bef0-2762ad6955f1",
        "id": "IuGlsmfm9-De"
      },
      "source": [
        "import os\n",
        "\n",
        "log_files = os.listdir(\"/content/classifier_logs_XLM_Roberta\")\n",
        "log_files"
      ],
      "execution_count": null,
      "outputs": [
        {
          "output_type": "execute_result",
          "data": {
            "text/plain": [
              "['ClassifierDLApproach_8e611ffa279a.log']"
            ]
          },
          "metadata": {},
          "execution_count": 6
        }
      ]
    },
    {
      "cell_type": "code",
      "metadata": {
        "colab": {
          "base_uri": "https://localhost:8080/"
        },
        "outputId": "8d1b6cc4-3fd3-4ad0-af2f-15b333203eee",
        "id": "0CgU3xHc9-De"
      },
      "source": [
        "with open(\"/content/classifier_logs_XLM_Roberta/\"+log_files[0]) as log_file:\n",
        "    print(log_file.read())"
      ],
      "execution_count": null,
      "outputs": [
        {
          "output_type": "stream",
          "name": "stdout",
          "text": [
            "Training started - epochs: 125 - learning_rate: 7.0E-4 - batch_size: 64 - training_examples: 40000 - classes: 2\n",
            "Epoch 0/125 - 3.35s - loss: 389.82956 - acc: 0.64055 - batches: 625\n",
            "Epoch 1/125 - 2.55s - loss: 344.17722 - acc: 0.721825 - batches: 625\n",
            "Epoch 2/125 - 2.45s - loss: 331.44604 - acc: 0.740375 - batches: 625\n",
            "Epoch 3/125 - 2.36s - loss: 327.38107 - acc: 0.7479 - batches: 625\n",
            "Epoch 4/125 - 2.51s - loss: 325.58655 - acc: 0.752325 - batches: 625\n",
            "Epoch 5/125 - 2.42s - loss: 324.32693 - acc: 0.7551 - batches: 625\n",
            "Epoch 6/125 - 2.46s - loss: 323.30402 - acc: 0.757125 - batches: 625\n",
            "Epoch 7/125 - 2.39s - loss: 322.4781 - acc: 0.758775 - batches: 625\n",
            "Epoch 8/125 - 2.43s - loss: 321.8506 - acc: 0.760475 - batches: 625\n",
            "Epoch 9/125 - 2.35s - loss: 321.3288 - acc: 0.762175 - batches: 625\n",
            "Epoch 10/125 - 2.45s - loss: 320.8533 - acc: 0.76365 - batches: 625\n",
            "Epoch 11/125 - 2.35s - loss: 320.35968 - acc: 0.7646 - batches: 625\n",
            "Epoch 12/125 - 2.41s - loss: 319.91113 - acc: 0.765375 - batches: 625\n",
            "Epoch 13/125 - 2.35s - loss: 319.46564 - acc: 0.765925 - batches: 625\n",
            "Epoch 14/125 - 2.45s - loss: 319.08286 - acc: 0.766625 - batches: 625\n",
            "Epoch 15/125 - 2.43s - loss: 318.71927 - acc: 0.767425 - batches: 625\n",
            "Epoch 16/125 - 2.37s - loss: 318.3918 - acc: 0.7681 - batches: 625\n",
            "Epoch 17/125 - 2.41s - loss: 318.08136 - acc: 0.768925 - batches: 625\n",
            "Epoch 18/125 - 2.49s - loss: 317.7811 - acc: 0.7695 - batches: 625\n",
            "Epoch 19/125 - 2.45s - loss: 317.505 - acc: 0.7701 - batches: 625\n",
            "Epoch 20/125 - 2.36s - loss: 317.24634 - acc: 0.770725 - batches: 625\n",
            "Epoch 21/125 - 2.30s - loss: 316.98376 - acc: 0.771375 - batches: 625\n",
            "Epoch 22/125 - 2.35s - loss: 316.73502 - acc: 0.7717 - batches: 625\n",
            "Epoch 23/125 - 2.48s - loss: 316.48865 - acc: 0.771825 - batches: 625\n",
            "Epoch 24/125 - 2.34s - loss: 316.25 - acc: 0.7725 - batches: 625\n",
            "Epoch 25/125 - 2.48s - loss: 316.03217 - acc: 0.773125 - batches: 625\n",
            "Epoch 26/125 - 2.34s - loss: 315.84183 - acc: 0.773325 - batches: 625\n",
            "Epoch 27/125 - 2.32s - loss: 315.64218 - acc: 0.773575 - batches: 625\n",
            "Epoch 28/125 - 2.31s - loss: 315.4429 - acc: 0.773825 - batches: 625\n",
            "Epoch 29/125 - 2.35s - loss: 315.24554 - acc: 0.77415 - batches: 625\n",
            "Epoch 30/125 - 2.35s - loss: 315.0655 - acc: 0.7742 - batches: 625\n",
            "Epoch 31/125 - 2.30s - loss: 314.90497 - acc: 0.77425 - batches: 625\n",
            "Epoch 32/125 - 2.32s - loss: 314.76093 - acc: 0.7743 - batches: 625\n",
            "Epoch 33/125 - 2.31s - loss: 314.61765 - acc: 0.77495 - batches: 625\n",
            "Epoch 34/125 - 2.30s - loss: 314.4825 - acc: 0.7752 - batches: 625\n",
            "Epoch 35/125 - 2.32s - loss: 314.35104 - acc: 0.7753 - batches: 625\n",
            "Epoch 36/125 - 2.48s - loss: 314.21915 - acc: 0.77565 - batches: 625\n",
            "Epoch 37/125 - 2.30s - loss: 314.1014 - acc: 0.775725 - batches: 625\n",
            "Epoch 38/125 - 2.32s - loss: 313.98242 - acc: 0.775725 - batches: 625\n",
            "Epoch 39/125 - 2.32s - loss: 313.86642 - acc: 0.776175 - batches: 625\n",
            "Epoch 40/125 - 2.33s - loss: 313.74835 - acc: 0.77635 - batches: 625\n",
            "Epoch 41/125 - 2.35s - loss: 313.63922 - acc: 0.77655 - batches: 625\n",
            "Epoch 42/125 - 2.33s - loss: 313.53403 - acc: 0.77665 - batches: 625\n",
            "Epoch 43/125 - 2.33s - loss: 313.43094 - acc: 0.7767 - batches: 625\n",
            "Epoch 44/125 - 2.32s - loss: 313.3264 - acc: 0.777 - batches: 625\n",
            "Epoch 45/125 - 2.32s - loss: 313.229 - acc: 0.777175 - batches: 625\n",
            "Epoch 46/125 - 2.31s - loss: 313.1431 - acc: 0.77725 - batches: 625\n",
            "Epoch 47/125 - 2.45s - loss: 313.05383 - acc: 0.77745 - batches: 625\n",
            "Epoch 48/125 - 2.34s - loss: 312.9529 - acc: 0.777625 - batches: 625\n",
            "Epoch 49/125 - 2.35s - loss: 312.8487 - acc: 0.777775 - batches: 625\n",
            "Epoch 50/125 - 2.33s - loss: 312.75345 - acc: 0.777925 - batches: 625\n",
            "Epoch 51/125 - 2.33s - loss: 312.661 - acc: 0.778075 - batches: 625\n",
            "Epoch 52/125 - 2.41s - loss: 312.56894 - acc: 0.77825 - batches: 625\n",
            "Epoch 53/125 - 2.35s - loss: 312.47598 - acc: 0.778475 - batches: 625\n",
            "Epoch 54/125 - 2.32s - loss: 312.3943 - acc: 0.7784 - batches: 625\n",
            "Epoch 55/125 - 2.34s - loss: 312.3312 - acc: 0.778525 - batches: 625\n",
            "Epoch 56/125 - 2.33s - loss: 312.26923 - acc: 0.778425 - batches: 625\n",
            "Epoch 57/125 - 2.36s - loss: 312.2096 - acc: 0.77835 - batches: 625\n",
            "Epoch 58/125 - 2.44s - loss: 312.14996 - acc: 0.778525 - batches: 625\n",
            "Epoch 59/125 - 2.31s - loss: 312.08807 - acc: 0.77855 - batches: 625\n",
            "Epoch 60/125 - 2.34s - loss: 312.02985 - acc: 0.778625 - batches: 625\n",
            "Epoch 61/125 - 2.30s - loss: 311.96933 - acc: 0.778875 - batches: 625\n",
            "Epoch 62/125 - 2.31s - loss: 311.9106 - acc: 0.779 - batches: 625\n",
            "Epoch 63/125 - 2.34s - loss: 311.85025 - acc: 0.77915 - batches: 625\n",
            "Epoch 64/125 - 2.37s - loss: 311.79895 - acc: 0.7794 - batches: 625\n",
            "Epoch 65/125 - 2.37s - loss: 311.7425 - acc: 0.77955 - batches: 625\n",
            "Epoch 66/125 - 2.36s - loss: 311.69083 - acc: 0.779675 - batches: 625\n",
            "Epoch 67/125 - 2.36s - loss: 311.6429 - acc: 0.7799 - batches: 625\n",
            "Epoch 68/125 - 2.32s - loss: 311.5951 - acc: 0.78005 - batches: 625\n",
            "Epoch 69/125 - 2.45s - loss: 311.55267 - acc: 0.78025 - batches: 625\n",
            "Epoch 70/125 - 2.31s - loss: 311.50943 - acc: 0.78045 - batches: 625\n",
            "Epoch 71/125 - 2.35s - loss: 311.46225 - acc: 0.780325 - batches: 625\n",
            "Epoch 72/125 - 2.34s - loss: 311.4164 - acc: 0.7804 - batches: 625\n",
            "Epoch 73/125 - 2.35s - loss: 311.37042 - acc: 0.7806 - batches: 625\n",
            "Epoch 74/125 - 2.34s - loss: 311.3289 - acc: 0.780675 - batches: 625\n",
            "Epoch 75/125 - 2.36s - loss: 311.28647 - acc: 0.780825 - batches: 625\n",
            "Epoch 76/125 - 2.32s - loss: 311.24432 - acc: 0.780925 - batches: 625\n",
            "Epoch 77/125 - 2.31s - loss: 311.2018 - acc: 0.78085 - batches: 625\n",
            "Epoch 78/125 - 2.34s - loss: 311.16476 - acc: 0.780825 - batches: 625\n",
            "Epoch 79/125 - 2.32s - loss: 311.12695 - acc: 0.781 - batches: 625\n",
            "Epoch 80/125 - 2.41s - loss: 311.08633 - acc: 0.78115 - batches: 625\n",
            "Epoch 81/125 - 2.33s - loss: 311.05008 - acc: 0.781175 - batches: 625\n",
            "Epoch 82/125 - 2.34s - loss: 311.0078 - acc: 0.78105 - batches: 625\n",
            "Epoch 83/125 - 2.30s - loss: 310.97305 - acc: 0.78105 - batches: 625\n",
            "Epoch 84/125 - 2.31s - loss: 310.93344 - acc: 0.781125 - batches: 625\n",
            "Epoch 85/125 - 2.32s - loss: 310.90097 - acc: 0.7812 - batches: 625\n",
            "Epoch 86/125 - 2.30s - loss: 310.8644 - acc: 0.781275 - batches: 625\n",
            "Epoch 87/125 - 2.30s - loss: 310.82742 - acc: 0.78135 - batches: 625\n",
            "Epoch 88/125 - 2.32s - loss: 310.79382 - acc: 0.78145 - batches: 625\n",
            "Epoch 89/125 - 2.33s - loss: 310.75937 - acc: 0.781425 - batches: 625\n",
            "Epoch 90/125 - 2.31s - loss: 310.72562 - acc: 0.78155 - batches: 625\n",
            "Epoch 91/125 - 2.30s - loss: 310.69043 - acc: 0.781575 - batches: 625\n",
            "Epoch 92/125 - 2.42s - loss: 310.6589 - acc: 0.781675 - batches: 625\n",
            "Epoch 93/125 - 2.33s - loss: 310.62646 - acc: 0.781725 - batches: 625\n",
            "Epoch 94/125 - 2.32s - loss: 310.5902 - acc: 0.781775 - batches: 625\n",
            "Epoch 95/125 - 2.31s - loss: 310.5585 - acc: 0.781925 - batches: 625\n",
            "Epoch 96/125 - 2.33s - loss: 310.52603 - acc: 0.7819 - batches: 625\n",
            "Epoch 97/125 - 2.36s - loss: 310.49277 - acc: 0.781975 - batches: 625\n",
            "Epoch 98/125 - 2.33s - loss: 310.46228 - acc: 0.78205 - batches: 625\n",
            "Epoch 99/125 - 2.30s - loss: 310.42957 - acc: 0.782125 - batches: 625\n",
            "Epoch 100/125 - 2.34s - loss: 310.40176 - acc: 0.782125 - batches: 625\n",
            "Epoch 101/125 - 2.28s - loss: 310.3693 - acc: 0.782175 - batches: 625\n",
            "Epoch 102/125 - 2.31s - loss: 310.34018 - acc: 0.782225 - batches: 625\n",
            "Epoch 103/125 - 2.42s - loss: 310.30984 - acc: 0.782275 - batches: 625\n",
            "Epoch 104/125 - 2.34s - loss: 310.28317 - acc: 0.7824 - batches: 625\n",
            "Epoch 105/125 - 2.31s - loss: 310.25656 - acc: 0.782375 - batches: 625\n",
            "Epoch 106/125 - 2.32s - loss: 310.2314 - acc: 0.78235 - batches: 625\n",
            "Epoch 107/125 - 2.29s - loss: 310.20435 - acc: 0.78245 - batches: 625\n",
            "Epoch 108/125 - 2.33s - loss: 310.17868 - acc: 0.782525 - batches: 625\n",
            "Epoch 109/125 - 2.37s - loss: 310.15146 - acc: 0.7826 - batches: 625\n",
            "Epoch 110/125 - 2.34s - loss: 310.1265 - acc: 0.78265 - batches: 625\n",
            "Epoch 111/125 - 2.33s - loss: 310.09857 - acc: 0.782625 - batches: 625\n",
            "Epoch 112/125 - 2.32s - loss: 310.07242 - acc: 0.7827 - batches: 625\n",
            "Epoch 113/125 - 2.32s - loss: 310.0459 - acc: 0.782675 - batches: 625\n",
            "Epoch 114/125 - 2.46s - loss: 310.01837 - acc: 0.782775 - batches: 625\n",
            "Epoch 115/125 - 2.34s - loss: 309.99225 - acc: 0.782675 - batches: 625\n",
            "Epoch 116/125 - 2.30s - loss: 309.96655 - acc: 0.782675 - batches: 625\n",
            "Epoch 117/125 - 2.34s - loss: 309.94083 - acc: 0.782625 - batches: 625\n",
            "Epoch 118/125 - 2.31s - loss: 309.91782 - acc: 0.782625 - batches: 625\n",
            "Epoch 119/125 - 2.31s - loss: 309.8913 - acc: 0.782575 - batches: 625\n",
            "Epoch 120/125 - 2.34s - loss: 309.8662 - acc: 0.7826 - batches: 625\n",
            "Epoch 121/125 - 2.28s - loss: 309.8386 - acc: 0.7827 - batches: 625\n",
            "Epoch 122/125 - 2.31s - loss: 309.81158 - acc: 0.78275 - batches: 625\n",
            "Epoch 123/125 - 2.32s - loss: 309.78757 - acc: 0.7828 - batches: 625\n",
            "Epoch 124/125 - 2.31s - loss: 309.76364 - acc: 0.782875 - batches: 625\n",
            "\n"
          ]
        }
      ]
    },
    {
      "cell_type": "markdown",
      "metadata": {
        "id": "JnisSGDp9-De"
      },
      "source": [
        "## 8.5 Plot XLM-Roberta "
      ]
    },
    {
      "cell_type": "code",
      "metadata": {
        "colab": {
          "base_uri": "https://localhost:8080/",
          "height": 512
        },
        "outputId": "edaefddc-ad1d-4f0f-f6f5-01173e6ca5bb",
        "id": "0s3eVdKK9-De"
      },
      "source": [
        "acc_plot(\"/content/classifier_logs_XLM_Roberta/\"+log_files[0])"
      ],
      "execution_count": null,
      "outputs": [
        {
          "output_type": "display_data",
          "data": {
            "image/png": "[encoded data removed]",
            "text/plain": [
              "<Figure size 576x576 with 1 Axes>"
            ]
          },
          "metadata": {
            "needs_background": "light"
          }
        }
      ]
    },
    {
      "cell_type": "code",
      "metadata": {
        "colab": {
          "base_uri": "https://localhost:8080/",
          "height": 512
        },
        "outputId": "a2e3305f-7fe1-409c-a118-89a63f5cac32",
        "id": "1yBnSHRU9-Df"
      },
      "source": [
        "loss_plot(\"/content/classifier_logs_XLM_Roberta/\"+log_files[0])"
      ],
      "execution_count": null,
      "outputs": [
        {
          "output_type": "display_data",
          "data": {
            "image/png": "[encoded data removed]",
            "text/plain": [
              "<Figure size 576x576 with 1 Axes>"
            ]
          },
          "metadata": {
            "needs_background": "light"
          }
        }
      ]
    },
    {
      "cell_type": "markdown",
      "metadata": {
        "id": "uX_Bv4O99-Df"
      },
      "source": [
        "##9. Evaluate Trained Model on Test Data"
      ]
    },
    {
      "cell_type": "code",
      "metadata": {
        "colab": {
          "base_uri": "https://localhost:8080/"
        },
        "outputId": "90eba955-ac4b-4bc4-aa56-38712f7c6617",
        "id": "ivT6Vtcy9-Df"
      },
      "source": [
        "preds = mutli_lingual_model_XLM_Roberta.transform(test_df)\n",
        "preds.show()"
      ],
      "execution_count": null,
      "outputs": [
        {
          "output_type": "stream",
          "name": "stdout",
          "text": [
            "+------+---------------------------------+--------+--------------------+--------------------+--------------------+\n",
            "|   _c0|                             text|       y|            document| sentence_embeddings|               class|\n",
            "+------+---------------------------------+--------+--------------------+--------------------+--------------------+\n",
            "|800000|케빈의 연기력도 허접한 감독의 ...|negative|[[document, 0, 30...|[[sentence_embedd...|[[category, 0, 30...|\n",
            "|800001|            roki79@nate.com 기...|positive|[[document, 0, 64...|[[sentence_embedd...|[[category, 0, 64...|\n",
            "|800002|             Se aprendem a faz...|positive|[[document, 0, 19...|[[sentence_embedd...|[[category, 0, 19...|\n",
            "|800003|             @little_bluebit n...|negative|[[document, 0, 71...|[[sentence_embedd...|[[category, 0, 71...|\n",
            "|800004|             Quem se sente inc...|positive|[[document, 0, 37...|[[sentence_embedd...|[[category, 0, 37...|\n",
            "|800005|             eheheh hoje vou e...|positive|[[document, 0, 69...|[[sentence_embedd...|[[category, 0, 69...|\n",
            "|800006|             Romantická komedi...|negative|[[document, 0, 18...|[[sentence_embedd...|[[category, 0, 18...|\n",
            "|800007|             Nechápu jestli se...|negative|[[document, 0, 99...|[[sentence_embedd...|[[category, 0, 99...|\n",
            "|800008|인피니트 언제나 멋지고 열심히 ...|positive|[[document, 0, 67...|[[sentence_embedd...|[[category, 0, 67...|\n",
            "|800009|             @mizanzika Então ...|positive|[[document, 0, 21...|[[sentence_embedd...|[[category, 0, 21...|\n",
            "|800010|             não tenho condiçõ...|negative|[[document, 0, 64...|[[sentence_embedd...|[[category, 0, 64...|\n",
            "|800011|             eu tenho 5 contas...|positive|[[document, 0, 12...|[[sentence_embedd...|[[category, 0, 12...|\n",
            "|800012|             Me arrependi tant...|negative|[[document, 0, 69...|[[sentence_embedd...|[[category, 0, 69...|\n",
            "|800013|지금 농락하냐 애라이 다시는 않...|negative|[[document, 0, 21...|[[sentence_embedd...|[[category, 0, 21...|\n",
            "|800014|             @faustchulhu @sra...|positive|[[document, 0, 11...|[[sentence_embedd...|[[category, 0, 11...|\n",
            "|800015|             amanhã vou ter de...|negative|[[document, 0, 68...|[[sentence_embedd...|[[category, 0, 68...|\n",
            "|800016|             Tak ze začátku to...|negative|[[document, 0, 15...|[[sentence_embedd...|[[category, 0, 15...|\n",
            "|800017|               que ódio de mim :(|negative|[[document, 0, 17...|[[sentence_embedd...|[[category, 0, 17...|\n",
            "|800018|             هناك كلمات مهمة ج...|positive|[[document, 0, 11...|[[sentence_embedd...|[[category, 0, 11...|\n",
            "|800019|             @daquivouproalem ...|negative|[[document, 0, 63...|[[sentence_embedd...|[[category, 0, 63...|\n",
            "+------+---------------------------------+--------+--------------------+--------------------+--------------------+\n",
            "only showing top 20 rows\n",
            "\n"
          ]
        }
      ]
    },
    {
      "cell_type": "code",
      "metadata": {
        "colab": {
          "base_uri": "https://localhost:8080/",
          "height": 424
        },
        "outputId": "e4dd3473-56e4-4c85-b22c-aee99dcf6335",
        "id": "WqH_RsN19-Df"
      },
      "source": [
        "df = preds.select(['y','class.result']).toPandas()\n",
        "df['result'] = df['result'].apply(lambda x : x[0])\n",
        "df"
      ],
      "execution_count": null,
      "outputs": [
        {
          "output_type": "execute_result",
          "data": {
            "text/html": [
              "<div>\n",
              "<style scoped>\n",
              "    .dataframe tbody tr th:only-of-type {\n",
              "        vertical-align: middle;\n",
              "    }\n",
              "\n",
              "    .dataframe tbody tr th {\n",
              "        vertical-align: top;\n",
              "    }\n",
              "\n",
              "    .dataframe thead th {\n",
              "        text-align: right;\n",
              "    }\n",
              "</style>\n",
              "<table border=\"1\" class=\"dataframe\">\n",
              "  <thead>\n",
              "    <tr style=\"text-align: right;\">\n",
              "      <th></th>\n",
              "      <th>y</th>\n",
              "      <th>result</th>\n",
              "    </tr>\n",
              "  </thead>\n",
              "  <tbody>\n",
              "    <tr>\n",
              "      <th>0</th>\n",
              "      <td>negative</td>\n",
              "      <td>positive</td>\n",
              "    </tr>\n",
              "    <tr>\n",
              "      <th>1</th>\n",
              "      <td>positive</td>\n",
              "      <td>positive</td>\n",
              "    </tr>\n",
              "    <tr>\n",
              "      <th>2</th>\n",
              "      <td>positive</td>\n",
              "      <td>positive</td>\n",
              "    </tr>\n",
              "    <tr>\n",
              "      <th>3</th>\n",
              "      <td>negative</td>\n",
              "      <td>negative</td>\n",
              "    </tr>\n",
              "    <tr>\n",
              "      <th>4</th>\n",
              "      <td>positive</td>\n",
              "      <td>positive</td>\n",
              "    </tr>\n",
              "    <tr>\n",
              "      <th>...</th>\n",
              "      <td>...</td>\n",
              "      <td>...</td>\n",
              "    </tr>\n",
              "    <tr>\n",
              "      <th>6995</th>\n",
              "      <td>negative</td>\n",
              "      <td>negative</td>\n",
              "    </tr>\n",
              "    <tr>\n",
              "      <th>6996</th>\n",
              "      <td>negative</td>\n",
              "      <td>negative</td>\n",
              "    </tr>\n",
              "    <tr>\n",
              "      <th>6997</th>\n",
              "      <td>positive</td>\n",
              "      <td>positive</td>\n",
              "    </tr>\n",
              "    <tr>\n",
              "      <th>6998</th>\n",
              "      <td>positive</td>\n",
              "      <td>positive</td>\n",
              "    </tr>\n",
              "    <tr>\n",
              "      <th>6999</th>\n",
              "      <td>negative</td>\n",
              "      <td>negative</td>\n",
              "    </tr>\n",
              "  </tbody>\n",
              "</table>\n",
              "<p>7000 rows × 2 columns</p>\n",
              "</div>"
            ],
            "text/plain": [
              "             y    result\n",
              "0     negative  positive\n",
              "1     positive  positive\n",
              "2     positive  positive\n",
              "3     negative  negative\n",
              "4     positive  positive\n",
              "...        ...       ...\n",
              "6995  negative  negative\n",
              "6996  negative  negative\n",
              "6997  positive  positive\n",
              "6998  positive  positive\n",
              "6999  negative  negative\n",
              "\n",
              "[7000 rows x 2 columns]"
            ]
          },
          "metadata": {},
          "execution_count": 12
        }
      ]
    },
    {
      "cell_type": "code",
      "metadata": {
        "colab": {
          "base_uri": "https://localhost:8080/"
        },
        "outputId": "33424023-970c-4797-8a9c-c69a658deb2c",
        "id": "D_EkuflD9-Dg"
      },
      "source": [
        "\n",
        "# We are going to use sklearn to evalute the results on test dataset\n",
        "from sklearn.metrics import classification_report\n",
        "print(classification_report(df['result'], df['y']))"
      ],
      "execution_count": null,
      "outputs": [
        {
          "output_type": "stream",
          "name": "stdout",
          "text": [
            "              precision    recall  f1-score   support\n",
            "\n",
            "    negative       0.73      0.80      0.76      3212\n",
            "    positive       0.81      0.75      0.78      3788\n",
            "\n",
            "    accuracy                           0.77      7000\n",
            "   macro avg       0.77      0.77      0.77      7000\n",
            "weighted avg       0.77      0.77      0.77      7000\n",
            "\n"
          ]
        }
      ]
    },
    {
      "cell_type": "code",
      "metadata": {
        "colab": {
          "base_uri": "https://localhost:8080/"
        },
        "outputId": "1a897d89-2c2f-4bee-f475-10cc522154c2",
        "id": "QiQf8J2e-XZL"
      },
      "source": [
        "\n",
        "\n",
        "from sklearn.metrics import f1_score,precision_score,accuracy_score\n",
        "XLM_Roberta_f1= f1_score(df['result'], df['y'], average='macro')\n",
        "XLM_Roberta_precision = precision_score(df['result'], df['y'], average='macro')\n",
        "print(XLM_Roberta_f1, XLM_Roberta_precision)\n"
      ],
      "execution_count": null,
      "outputs": [
        {
          "output_type": "stream",
          "name": "stdout",
          "text": [
            "0.7710517132036767 0.7714759464175627\n"
          ]
        }
      ]
    },
    {
      "cell_type": "markdown",
      "source": [
        "##10. Comparing Performance "
      ],
      "metadata": {
        "id": "k2dzvl---cih"
      }
    },
    {
      "cell_type": "code",
      "source": [
        "fig = plt.figure()\n",
        "ax = fig.add_axes([0,0,1,1])\n",
        "embeddings = ['Bert', 'XlM-Roberta', 'DistilBERT']\n",
        "f1 = [0.8522857142857143 ,0.7710517132036767,0.7018481007344232 ]\n",
        "ax.bar(embeddings,f1,width =.4)\n",
        "plt.xlabel(\"Multi-Lingual embeddings\")\n",
        "plt.ylabel(\"F1\")\n",
        "\n",
        "plt.show()"
      ],
      "metadata": {
        "colab": {
          "base_uri": "https://localhost:8080/",
          "height": 350
        },
        "id": "2Q-ic1Jh--0y",
        "outputId": "7108f6c8-d97c-4f4d-c211-d30f94974a23"
      },
      "execution_count": 2,
      "outputs": [
        {
          "output_type": "display_data",
          "data": {
            "image/png": "[encoded data removed]",
            "text/plain": [
              "<Figure size 432x288 with 1 Axes>"
            ]
          },
          "metadata": {
            "needs_background": "light"
          }
        }
      ]
    },
    {
      "cell_type": "code",
      "source": [
        "fig = plt.figure()\n",
        "ax = fig.add_axes([0,0,1,1])\n",
        "embeddings = ['Bert', 'XlM-Roberta', 'DistilBERT']\n",
        "Percision = [0.8522868274766726 ,0.7714759464175627,0.7019751209470968 ]\n",
        "ax.bar(embeddings,f1,width =.4)\n",
        "plt.xlabel(\"Multi-Lingual embeddings\")\n",
        "plt.ylabel(\"Precision\")\n",
        "\n",
        "plt.show()"
      ],
      "metadata": {
        "colab": {
          "base_uri": "https://localhost:8080/",
          "height": 350
        },
        "id": "eNqqVwAYAflV",
        "outputId": "8966ece6-b108-4562-b72d-1f8962ef82c7"
      },
      "execution_count": 3,
      "outputs": [
        {
          "output_type": "display_data",
          "data": {
            "image/png": "[encoded data removed]",
            "text/plain": [
              "<Figure size 432x288 with 1 Axes>"
            ]
          },
          "metadata": {
            "needs_background": "light"
          }
        }
      ]
    },
    {
      "cell_type": "markdown",
      "source": [
        "##11. Saving the best performing Model"
      ],
      "metadata": {
        "id": "xJbAP3YKC5Ti"
      }
    },
    {
      "cell_type": "code",
      "source": [
        "mutli_lingual_model.stages[-1].write().overwrite().save('/content/tmp_multi_classifierDL_model')\n"
      ],
      "metadata": {
        "id": "sVM55N_8B3me"
      },
      "execution_count": null,
      "outputs": []
    },
    {
      "cell_type": "markdown",
      "source": [
        "##12. Loading Saved Model"
      ],
      "metadata": {
        "id": "VIa9Aq7XDtVs"
      }
    },
    {
      "cell_type": "code",
      "source": [
        "from pyspark.ml import Pipeline\n",
        "from sparknlp.annotator import *\n",
        "from sparknlp.common import *\n",
        "from sparknlp.base import *\n",
        "from pyspark.sql import SparkSession\n",
        "\n",
        "document = DocumentAssembler()\\\n",
        "    .setInputCol(\"text\")\\\n",
        "    .setOutputCol(\"document\")\n",
        "sent_embeddings = BertSentenceEmbeddings.pretrained(\"sent_bert_use_cmlm_multi_base_br\", \"xx\") \\\n",
        "      .setInputCols(\"document\") \\\n",
        "      .setOutputCol(\"sentence_embeddings\")\n",
        "classifierDl = ClassifierDLModel.load('/content/tmp_multi_classifierDL_model')\\\n",
        "  .setInputCols([\"sentence_embeddings\"])\\\n",
        "  .setOutputCol(\"class\")\n",
        "pipeline = Pipeline(\n",
        "    stages = [\n",
        "        document,\n",
        "        sent_embeddings,\n",
        "        classifierDl\n",
        "    ])\n",
        "empty_df = spark.createDataFrame([['']]).toDF('text')\n",
        "mutli_lingual_model = pipeline.fit(empty_df)\n",
        "\n",
        "mutli_lingual_model = LightPipeline(mutli_lingual_model)\n"
      ],
      "metadata": {
        "colab": {
          "base_uri": "https://localhost:8080/"
        },
        "id": "2rBc-4NnDq4j",
        "outputId": "6ed41475-d286-412c-ec00-87c31c372f34"
      },
      "execution_count": null,
      "outputs": [
        {
          "output_type": "stream",
          "name": "stdout",
          "text": [
            "sent_bert_use_cmlm_multi_base_br download started this may take some time.\n",
            "Approximate size to download 1.7 GB\n",
            "[OK!]\n"
          ]
        }
      ]
    },
    {
      "cell_type": "markdown",
      "metadata": {
        "id": "RjtuNUcvuJTT"
      },
      "source": [
        "#### The Model understands Englsih\n",
        "![en](https://www.worldometers.info/img/flags/small/tn_nz-flag.gif)"
      ]
    },
    {
      "cell_type": "code",
      "metadata": {
        "id": "o0vu7PaWkcI7",
        "colab": {
          "base_uri": "https://localhost:8080/"
        },
        "outputId": "9e508b7f-10f6-42de-e473-9333cb98ed23"
      },
      "source": [
        "mutli_lingual_model.annotate(\"This was awful!\")"
      ],
      "execution_count": null,
      "outputs": [
        {
          "output_type": "execute_result",
          "data": {
            "text/plain": [
              "{'class': ['negative'],\n",
              " 'document': ['This was awful!'],\n",
              " 'sentence_embeddings': ['This was awful!']}"
            ]
          },
          "metadata": {},
          "execution_count": 23
        }
      ]
    },
    {
      "cell_type": "code",
      "metadata": {
        "id": "1ykjRQhCtQ4w",
        "colab": {
          "base_uri": "https://localhost:8080/"
        },
        "outputId": "e3b9f740-4966-4eb3-9762-b110f96890a8"
      },
      "source": [
        "mutli_lingual_model.annotate(\"This was great!\")"
      ],
      "execution_count": null,
      "outputs": [
        {
          "output_type": "execute_result",
          "data": {
            "text/plain": [
              "{'class': ['positive'],\n",
              " 'document': ['This was great!'],\n",
              " 'sentence_embeddings': ['This was great!']}"
            ]
          },
          "metadata": {},
          "execution_count": 25
        }
      ]
    },
    {
      "cell_type": "markdown",
      "metadata": {
        "id": "vohym-XbuNHn"
      },
      "source": [
        "#### The Model understands German\n",
        "![de](https://www.worldometers.info/img/flags/small/tn_gm-flag.gif)"
      ]
    },
    {
      "cell_type": "code",
      "metadata": {
        "id": "dzaaZrI4tVWc",
        "colab": {
          "base_uri": "https://localhost:8080/"
        },
        "outputId": "aaf5a119-7ba0-4ac7-af99-3d25ba4c9ad2"
      },
      "source": [
        "# German for:' this movie was great!'\n",
        "mutli_lingual_model.annotate(\"Der Film war echt klasse!\")"
      ],
      "execution_count": null,
      "outputs": [
        {
          "output_type": "execute_result",
          "data": {
            "text/plain": [
              "{'class': ['positive'],\n",
              " 'document': ['Der Film war echt klasse!'],\n",
              " 'sentence_embeddings': ['Der Film war echt klasse!']}"
            ]
          },
          "metadata": {},
          "execution_count": 26
        }
      ]
    },
    {
      "cell_type": "code",
      "metadata": {
        "id": "BbhgTSBGtTtJ",
        "colab": {
          "base_uri": "https://localhost:8080/"
        },
        "outputId": "8a8ba49c-c4c4-4c30-d0a5-a120cfc16ca6"
      },
      "source": [
        "# German for: 'This movie was really boring'\n",
        "mutli_lingual_model.annotate(\"Der Film war echt langweilig!\")"
      ],
      "execution_count": null,
      "outputs": [
        {
          "output_type": "execute_result",
          "data": {
            "text/plain": [
              "{'class': ['negative'],\n",
              " 'document': ['Der Film war echt langweilig!'],\n",
              " 'sentence_embeddings': ['Der Film war echt langweilig!']}"
            ]
          },
          "metadata": {},
          "execution_count": 27
        }
      ]
    },
    {
      "cell_type": "markdown",
      "metadata": {
        "id": "a1JbtmWquQwj"
      },
      "source": [
        "#### The Model understands Chinese\n",
        "![zh](https://www.worldometers.info/img/flags/small/tn_ch-flag.gif)"
      ]
    },
    {
      "cell_type": "code",
      "metadata": {
        "id": "kYSYqtoRtc-P",
        "colab": {
          "base_uri": "https://localhost:8080/"
        },
        "outputId": "a9eea618-bf7c-4075-babf-1f949dd92fb6"
      },
      "source": [
        "# Chinese for: \"This model was awful!\"\n",
        "mutli_lingual_model.annotate(\"这部电影太糟糕了！\")"
      ],
      "execution_count": null,
      "outputs": [
        {
          "output_type": "execute_result",
          "data": {
            "text/plain": [
              "{'class': ['negative'],\n",
              " 'document': ['这部电影太糟糕了！'],\n",
              " 'sentence_embeddings': ['这部电影太糟糕了！']}"
            ]
          },
          "metadata": {},
          "execution_count": 28
        }
      ]
    },
    {
      "cell_type": "code",
      "metadata": {
        "id": "06v9SD-QtlBU",
        "colab": {
          "base_uri": "https://localhost:8080/"
        },
        "outputId": "0249c84c-a4e7-4215-b4e5-1839a9534c1e"
      },
      "source": [
        "# Chine for : \"This move was great!\"\n",
        "mutli_lingual_model.annotate(\"此举很棒！\")\n"
      ],
      "execution_count": null,
      "outputs": [
        {
          "output_type": "execute_result",
          "data": {
            "text/plain": [
              "{'class': ['positive'],\n",
              " 'document': ['此举很棒！'],\n",
              " 'sentence_embeddings': ['此举很棒！']}"
            ]
          },
          "metadata": {},
          "execution_count": 29
        }
      ]
    },
    {
      "cell_type": "markdown",
      "metadata": {
        "id": "rSEPkC-Bwnpg"
      },
      "source": [
        "#### The model understands Vietnamese\n",
        "![vi](https://www.worldometers.info/img/flags/small/tn_vm-flag.gif)"
      ]
    },
    {
      "cell_type": "code",
      "metadata": {
        "id": "wCcTS5gIu511",
        "colab": {
          "base_uri": "https://localhost:8080/"
        },
        "outputId": "fd82ac8b-1f1c-4b29-a97b-4913ebea6cea"
      },
      "source": [
        "# Vietnamese for : 'The movie was painful to watch'\n",
        "mutli_lingual_model.annotate('Phim đau điếng người xem')\n"
      ],
      "execution_count": null,
      "outputs": [
        {
          "output_type": "execute_result",
          "data": {
            "text/plain": [
              "{'class': ['negative'],\n",
              " 'document': ['Phim đau điếng người xem'],\n",
              " 'sentence_embeddings': ['Phim đau điếng người xem']}"
            ]
          },
          "metadata": {},
          "execution_count": 32
        }
      ]
    },
    {
      "cell_type": "code",
      "metadata": {
        "id": "M6giDPK-wm2G",
        "colab": {
          "base_uri": "https://localhost:8080/"
        },
        "outputId": "d7ea8272-60ca-4b95-ff9b-70af40f49a4c"
      },
      "source": [
        "\n",
        "# Vietnamese for : 'This was the best movie ever'\n",
        "mutli_lingual_model.annotate('Đây là bộ phim hay nhất từ ​​trước đến nay')"
      ],
      "execution_count": null,
      "outputs": [
        {
          "output_type": "execute_result",
          "data": {
            "text/plain": [
              "{'class': ['positive'],\n",
              " 'document': ['Đây là bộ phim hay nhất từ \\u200b\\u200btrước đến nay'],\n",
              " 'sentence_embeddings': ['Đây là bộ phim hay nhất từ \\u200b\\u200btrước đến nay']}"
            ]
          },
          "metadata": {},
          "execution_count": 33
        }
      ]
    },
    {
      "cell_type": "markdown",
      "metadata": {
        "id": "IlkmAaMoxTuy"
      },
      "source": [
        "#### The model understands Japanese\n",
        "![ja](https://www.worldometers.info/img/flags/small/tn_ja-flag.gif)\n"
      ]
    },
    {
      "cell_type": "code",
      "metadata": {
        "id": "1IfJu3q8wwUt",
        "colab": {
          "base_uri": "https://localhost:8080/"
        },
        "outputId": "e23686f3-64d9-4def-8f81-b6d9591c60a0"
      },
      "source": [
        "\n",
        "# Japanese for : 'This is now my favorite movie!'\n",
        "mutli_lingual_model.annotate('これが私のお気に入りの映画です！')"
      ],
      "execution_count": null,
      "outputs": [
        {
          "output_type": "execute_result",
          "data": {
            "text/plain": [
              "{'class': ['positive'],\n",
              " 'document': ['これが私のお気に入りの映画です！'],\n",
              " 'sentence_embeddings': ['これが私のお気に入りの映画です！']}"
            ]
          },
          "metadata": {},
          "execution_count": 34
        }
      ]
    },
    {
      "cell_type": "code",
      "metadata": {
        "id": "h3k7_PFhxOve",
        "colab": {
          "base_uri": "https://localhost:8080/"
        },
        "outputId": "137bdcca-725d-488f-f91a-17f045411d6a"
      },
      "source": [
        "\n",
        "# Japanese for : 'I would rather kill myself than watch that movie again'\n",
        "mutli_lingual_model.annotate('その映画をもう一度見るよりも自殺したい')"
      ],
      "execution_count": null,
      "outputs": [
        {
          "output_type": "execute_result",
          "data": {
            "text/plain": [
              "{'class': ['negative'],\n",
              " 'document': ['その映画をもう一度見るよりも自殺したい'],\n",
              " 'sentence_embeddings': ['その映画をもう一度見るよりも自殺したい']}"
            ]
          },
          "metadata": {},
          "execution_count": 35
        }
      ]
    },
    {
      "cell_type": "markdown",
      "metadata": {
        "id": "GITfT7FK0CGv"
      },
      "source": [
        "#### The model understands Zulu\n",
        "![zu](https://www.worldometers.info/img/flags/small/tn_sf-flag.gif)"
      ]
    },
    {
      "cell_type": "code",
      "metadata": {
        "colab": {
          "base_uri": "https://localhost:8080/"
        },
        "id": "6uelDwq4xdWv",
        "outputId": "d704bb7c-09a8-427b-95d3-14fa7e729411"
      },
      "source": [
        "# Zulu for : 'Bitcoin went up by 50 percent !!!'\n",
        "mutli_lingual_model.annotate('I-Bitcoin inyuke ngamaphesenti ama-50 !!!')\n"
      ],
      "execution_count": null,
      "outputs": [
        {
          "output_type": "execute_result",
          "data": {
            "text/plain": [
              "{'class': ['negative'],\n",
              " 'document': ['I-Bitcoin inyuke ngamaphesenti ama-50 !!!'],\n",
              " 'sentence_embeddings': ['I-Bitcoin inyuke ngamaphesenti ama-50 !!!']}"
            ]
          },
          "metadata": {},
          "execution_count": 42
        }
      ]
    },
    {
      "cell_type": "code",
      "metadata": {
        "colab": {
          "base_uri": "https://localhost:8080/"
        },
        "id": "NY_D-USEBeFe",
        "outputId": "c93ef8f2-8adb-4f66-f7a8-ac7a0bf28223"
      },
      "source": [
        "# Zulu for : 'The whole crypto system crashed!!! '\n",
        "mutli_lingual_model.annotate('Lonke uhlelo lwe-crypto luphahlazeka !!!')\n"
      ],
      "execution_count": null,
      "outputs": [
        {
          "output_type": "execute_result",
          "data": {
            "text/plain": [
              "{'class': ['negative'],\n",
              " 'document': ['Lonke uhlelo lwe-crypto luphahlazeka !!!'],\n",
              " 'sentence_embeddings': ['Lonke uhlelo lwe-crypto luphahlazeka !!!']}"
            ]
          },
          "metadata": {},
          "execution_count": 43
        }
      ]
    },
    {
      "cell_type": "markdown",
      "metadata": {
        "id": "VGVvzl_30a0T"
      },
      "source": [
        "#### The  Model understands Turkish\n",
        "![tr](https://www.worldometers.info/img/flags/small/tn_tu-flag.gif)"
      ]
    },
    {
      "cell_type": "code",
      "metadata": {
        "colab": {
          "base_uri": "https://localhost:8080/"
        },
        "id": "DRNnuEeQz2pd",
        "outputId": "5c209ff8-7a81-4dbe-e687-7ce5530fd6fd"
      },
      "source": [
        "# Turkish for : 'Bitcoin dropped by 50 percent !!!'\n",
        "mutli_lingual_model.annotate('Bitcoin yüzde 50 düştü !!! ')"
      ],
      "execution_count": null,
      "outputs": [
        {
          "output_type": "execute_result",
          "data": {
            "text/plain": [
              "{'class': ['negative'],\n",
              " 'document': ['Bitcoin yüzde 50 düştü !!! '],\n",
              " 'sentence_embeddings': ['Bitcoin yüzde 50 düştü !!! ']}"
            ]
          },
          "metadata": {},
          "execution_count": 44
        }
      ]
    },
    {
      "cell_type": "code",
      "metadata": {
        "colab": {
          "base_uri": "https://localhost:8080/"
        },
        "id": "aOSsiK6J0jWs",
        "outputId": "0deb143d-8ac0-4fe7-cd4c-8319c612acd3"
      },
      "source": [
        "# Turkish for : 'Bitcoin went up by 50 percent !!!'\n",
        "mutli_lingual_model.annotate('Bitcoin yüzde 50 arttı !!!')\n",
        "\n"
      ],
      "execution_count": null,
      "outputs": [
        {
          "output_type": "execute_result",
          "data": {
            "text/plain": [
              "{'class': ['negative'],\n",
              " 'document': ['Bitcoin yüzde 50 arttı !!!'],\n",
              " 'sentence_embeddings': ['Bitcoin yüzde 50 arttı !!!']}"
            ]
          },
          "metadata": {},
          "execution_count": 45
        }
      ]
    },
    {
      "cell_type": "markdown",
      "metadata": {
        "id": "HKj5yWwwMplH"
      },
      "source": [
        "#### The Model understands French\n",
        "![fr](https://www.worldometers.info/img/flags/small/tn_fr-flag.gif)"
      ]
    },
    {
      "cell_type": "code",
      "metadata": {
        "colab": {
          "base_uri": "https://localhost:8080/"
        },
        "id": "CUHcJZfJMplL",
        "outputId": "d0e12288-8ec5-47b7-ce2a-f5b74cf6676d"
      },
      "source": [
        "# French for : 'Bitcoin dropped by 50 percent !!!'\n",
        "mutli_lingual_model.annotate(\"Bitcoin a chuté de 50% !!! \")"
      ],
      "execution_count": null,
      "outputs": [
        {
          "output_type": "execute_result",
          "data": {
            "text/plain": [
              "{'class': ['negative'],\n",
              " 'document': ['Bitcoin a chuté de 50% !!! '],\n",
              " 'sentence_embeddings': ['Bitcoin a chuté de 50% !!! ']}"
            ]
          },
          "metadata": {},
          "execution_count": 86
        }
      ]
    },
    {
      "cell_type": "code",
      "metadata": {
        "colab": {
          "base_uri": "https://localhost:8080/"
        },
        "id": "57NY2XoTMplM",
        "outputId": "7691bd9c-f156-451c-82fe-43ac6a374b58"
      },
      "source": [
        "# French for : 'Bitcoin went up by 50 percent !!!'\n",
        "mutli_lingual_model.annotate(\"Le Bitcoin a augmenté de 50% !!! \")"
      ],
      "execution_count": null,
      "outputs": [
        {
          "output_type": "execute_result",
          "data": {
            "text/plain": [
              "{'class': ['positive'],\n",
              " 'document': ['Le Bitcoin a augmenté de 50% !!! '],\n",
              " 'sentence_embeddings': ['Le Bitcoin a augmenté de 50% !!! ']}"
            ]
          },
          "metadata": {},
          "execution_count": 62
        }
      ]
    }
  ]
}